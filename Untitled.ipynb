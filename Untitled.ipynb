{
 "cells": [
  {
   "cell_type": "markdown",
   "id": "a4c1479c",
   "metadata": {},
   "source": [
    "Key words "
   ]
  },
  {
   "cell_type": "code",
   "execution_count": 2,
   "id": "1e17421c",
   "metadata": {},
   "outputs": [
    {
     "name": "stdout",
     "output_type": "stream",
     "text": [
      "True\n",
      "False\n"
     ]
    }
   ],
   "source": [
    "#True false\n",
    "print(5 == 5 )\n",
    "print (4>5)"
   ]
  },
  {
   "cell_type": "code",
   "execution_count": 3,
   "id": "5bc2e6e1",
   "metadata": {},
   "outputs": [
    {
     "name": "stdout",
     "output_type": "stream",
     "text": [
      "False\n",
      "False\n",
      "False\n",
      "True\n"
     ]
    }
   ],
   "source": [
    "#None \n",
    "\n",
    "print(None ==0)\n",
    "print(None == False)\n",
    "print(None == [])\n",
    "print(None == None)"
   ]
  },
  {
   "cell_type": "code",
   "execution_count": 6,
   "id": "ae237e91",
   "metadata": {},
   "outputs": [
    {
     "name": "stdout",
     "output_type": "stream",
     "text": [
      "None\n"
     ]
    }
   ],
   "source": [
    "def a_void_func():\n",
    "    a = 1\n",
    "    b = 2\n",
    "    c = a + b\n",
    "    \n",
    "x = a_void_func()\n",
    "print(x)"
   ]
  },
  {
   "cell_type": "code",
   "execution_count": 7,
   "id": "4f9c39a2",
   "metadata": {},
   "outputs": [
    {
     "name": "stdout",
     "output_type": "stream",
     "text": [
      "False\n",
      "True\n",
      "True\n"
     ]
    }
   ],
   "source": [
    "print(True and False)\n",
    "print(True or False)\n",
    "print(not False)"
   ]
  },
  {
   "cell_type": "code",
   "execution_count": 9,
   "id": "0675b17d",
   "metadata": {},
   "outputs": [
    {
     "name": "stdout",
     "output_type": "stream",
     "text": [
      "-1.0\n"
     ]
    }
   ],
   "source": [
    "#as\n",
    "\n",
    "import math as m\n",
    "print(m.cos(m.pi))"
   ]
  },
  {
   "cell_type": "code",
   "execution_count": null,
   "id": "62e33548",
   "metadata": {},
   "outputs": [],
   "source": [
    "#assert \n",
    "assert 5 > 35\n",
    "assert 5 == 5"
   ]
  },
  {
   "cell_type": "code",
   "execution_count": 15,
   "id": "3de3ef49",
   "metadata": {},
   "outputs": [
    {
     "name": "stdout",
     "output_type": "stream",
     "text": [
      "1\n",
      "2\n",
      "3\n",
      "4\n"
     ]
    }
   ],
   "source": [
    "#break\n",
    "for i in range(1, 11):\n",
    "    if i == 5:\n",
    "        break\n",
    "    print(i)"
   ]
  },
  {
   "cell_type": "code",
   "execution_count": 18,
   "id": "74a1eca7",
   "metadata": {},
   "outputs": [
    {
     "name": "stdout",
     "output_type": "stream",
     "text": [
      "1\n",
      "2\n",
      "3\n",
      "4\n",
      "6\n",
      "7\n"
     ]
    }
   ],
   "source": [
    "#continue\n",
    "\n",
    "for i in range(1,8):\n",
    "    if i == 5:\n",
    "        continue\n",
    "    print(i)"
   ]
  },
  {
   "cell_type": "code",
   "execution_count": 21,
   "id": "c366ced4",
   "metadata": {},
   "outputs": [
    {
     "name": "stdout",
     "output_type": "stream",
     "text": [
      "function1() executing...\n",
      "function2() executing...\n"
     ]
    }
   ],
   "source": [
    "#class\n",
    "\n",
    "class ExampleClass:\n",
    "    def function1(parameters):\n",
    "        print(\"function1() executing...\")\n",
    "    def function2(parameters):\n",
    "        print(\"function2() executing...\")\n",
    "        \n",
    "obj1 = ExampleClass()\n",
    "obj1.function1()\n",
    "obj1.function2()"
   ]
  },
  {
   "cell_type": "code",
   "execution_count": 24,
   "id": "0ff54de0",
   "metadata": {},
   "outputs": [],
   "source": [
    "#def \n",
    "\n",
    "def func_name(parameters):\n",
    "    pass\n",
    "func_name(10)"
   ]
  },
  {
   "cell_type": "code",
   "execution_count": null,
   "id": "a5e8ca4a",
   "metadata": {},
   "outputs": [],
   "source": [
    "#del\n",
    "\n",
    "a = 10\n",
    "print(a)\n",
    "\n",
    "del a \n",
    "\n",
    "print(a)"
   ]
  },
  {
   "cell_type": "code",
   "execution_count": 27,
   "id": "702179a9",
   "metadata": {},
   "outputs": [
    {
     "name": "stdout",
     "output_type": "stream",
     "text": [
      "two\n"
     ]
    }
   ],
   "source": [
    "#if ... elif else\n",
    "\n",
    "num = 2\n",
    "\n",
    "if num ==1:\n",
    "    print(\"one\")\n",
    "    \n",
    "elif num ==2:\n",
    "    print(\"two\")\n",
    "    \n",
    "else:\n",
    "    print('somthing else')"
   ]
  },
  {
   "cell_type": "code",
   "execution_count": 30,
   "id": "5fb26bb3",
   "metadata": {},
   "outputs": [
    {
     "name": "stdout",
     "output_type": "stream",
     "text": [
      "Division cannot be performedd\n",
      "Execution successfully\n"
     ]
    }
   ],
   "source": [
    "#try rase catch and finally\n",
    "\n",
    "try:\n",
    "    x = 9\n",
    "    raise ZeroDivisionError\n",
    "    \n",
    "except ZeroDivisionError:\n",
    "    print(\"Division cannot be performedd\")\n",
    "finally:\n",
    "    print(\"Execution successfully\")\n",
    "    \n",
    "    "
   ]
  },
  {
   "cell_type": "code",
   "execution_count": 34,
   "id": "c8198621",
   "metadata": {},
   "outputs": [
    {
     "name": "stdout",
     "output_type": "stream",
     "text": [
      "execution successfully\n"
     ]
    }
   ],
   "source": [
    "try:\n",
    "    p = 5\n",
    "   # raise ZeroDivisionError\n",
    "    \n",
    "    \n",
    "except ZeroDivisionError:\n",
    "    print(\"Error Free\")\n",
    "\n",
    "finally:\n",
    "    print(\"execution successfully\")"
   ]
  },
  {
   "cell_type": "code",
   "execution_count": 35,
   "id": "cad4e87f",
   "metadata": {},
   "outputs": [
    {
     "name": "stdout",
     "output_type": "stream",
     "text": [
      "1\n",
      "2\n",
      "3\n",
      "4\n",
      "5\n",
      "6\n",
      "7\n",
      "8\n",
      "9\n"
     ]
    }
   ],
   "source": [
    "for i in range(1, 10):\n",
    "    print(i)"
   ]
  },
  {
   "cell_type": "code",
   "execution_count": 36,
   "id": "1bac19a3",
   "metadata": {},
   "outputs": [],
   "source": [
    "import math\n",
    "from math import cos\n"
   ]
  },
  {
   "cell_type": "code",
   "execution_count": 39,
   "id": "9404941a",
   "metadata": {},
   "outputs": [
    {
     "name": "stdout",
     "output_type": "stream",
     "text": [
      "10\n",
      "90\n",
      "90\n"
     ]
    }
   ],
   "source": [
    "#global\n",
    "\n",
    "hey = 10\n",
    "\n",
    "def read1():\n",
    "    print(hey)\n",
    "\n",
    "def write1():\n",
    "    global hey\n",
    "    hey =90\n",
    "\n",
    "def write2():\n",
    "    hey = 40\n",
    "    \n",
    "read1()\n",
    "write1()\n",
    "read1()\n",
    "write2()\n",
    "read1()\n"
   ]
  },
  {
   "cell_type": "code",
   "execution_count": 41,
   "id": "e1600b8c",
   "metadata": {},
   "outputs": [
    {
     "name": "stdout",
     "output_type": "stream",
     "text": [
      "True\n",
      "False\n"
     ]
    }
   ],
   "source": [
    "#in\n",
    "\n",
    "a = [1, 2,4,5]\n",
    "print( 5 in a)\n",
    "print(7 in a)"
   ]
  },
  {
   "cell_type": "code",
   "execution_count": 42,
   "id": "330a1e73",
   "metadata": {},
   "outputs": [
    {
     "name": "stdout",
     "output_type": "stream",
     "text": [
      "True\n"
     ]
    }
   ],
   "source": [
    "#is\n",
    "\n",
    "print(False is False)"
   ]
  },
  {
   "cell_type": "code",
   "execution_count": 49,
   "id": "8ecc23f3",
   "metadata": {},
   "outputs": [
    {
     "name": "stdout",
     "output_type": "stream",
     "text": [
      "3\n",
      "6\n",
      "9\n",
      "12\n",
      "15\n",
      "18\n",
      "21\n",
      "24\n",
      "27\n"
     ]
    }
   ],
   "source": [
    "#lambda\n",
    "\n",
    "a = lambda x: x*3\n",
    "for i in range(1,10):\n",
    "    print(a(i))"
   ]
  },
  {
   "cell_type": "code",
   "execution_count": 52,
   "id": "2cbd36f1",
   "metadata": {},
   "outputs": [
    {
     "name": "stdout",
     "output_type": "stream",
     "text": [
      "Inner function : 10\n",
      "outer_function:  10\n"
     ]
    }
   ],
   "source": [
    "#non local\n",
    "\n",
    "def outer_function():\n",
    "    a = 5\n",
    "    def inner_function():\n",
    "        nonlocal a\n",
    "        a = 10\n",
    "        print(\"Inner function :\", a)\n",
    "    inner_function()\n",
    "    print(\"outer_function: \", a)\n",
    "outer_function()"
   ]
  },
  {
   "cell_type": "code",
   "execution_count": 54,
   "id": "e26cc841",
   "metadata": {},
   "outputs": [
    {
     "name": "stdout",
     "output_type": "stream",
     "text": [
      "<function func_return at 0x00000171B94CC5E0>\n"
     ]
    }
   ],
   "source": [
    "#pass\n",
    "def func_return():\n",
    "    a = 10\n",
    "    return a \n",
    "print(func_return)"
   ]
  },
  {
   "cell_type": "code",
   "execution_count": 55,
   "id": "728a81f6",
   "metadata": {},
   "outputs": [
    {
     "name": "stdout",
     "output_type": "stream",
     "text": [
      "5\n",
      "4\n",
      "3\n",
      "2\n",
      "1\n"
     ]
    }
   ],
   "source": [
    "# while\n",
    "\n",
    "i = 5\n",
    "while(i>0):\n",
    "    print(i)\n",
    "    i -=1"
   ]
  },
  {
   "cell_type": "code",
   "execution_count": 57,
   "id": "a336650e",
   "metadata": {},
   "outputs": [],
   "source": [
    "#with\n",
    "\n",
    "with open('example.txt', 'w') as my_file:\n",
    "    my_file.write('Hellow world')"
   ]
  },
  {
   "cell_type": "code",
   "execution_count": 61,
   "id": "3d0b94e4",
   "metadata": {},
   "outputs": [
    {
     "name": "stdout",
     "output_type": "stream",
     "text": [
      "0\n",
      "1\n",
      "4\n",
      "9\n",
      "16\n",
      "25\n",
      "36\n",
      "49\n",
      "64\n",
      "81\n"
     ]
    }
   ],
   "source": [
    "#yeild\n",
    "\n",
    "def generator():\n",
    "    for i in range(10):\n",
    "        yield i*i\n",
    "\n",
    "g = generator()\n",
    "for i in g:\n",
    "    print(i)"
   ]
  },
  {
   "cell_type": "code",
   "execution_count": null,
   "id": "341a3a3f",
   "metadata": {},
   "outputs": [],
   "source": []
  }
 ],
 "metadata": {
  "kernelspec": {
   "display_name": "Python 3",
   "language": "python",
   "name": "python3"
  },
  "language_info": {
   "codemirror_mode": {
    "name": "ipython",
    "version": 3
   },
   "file_extension": ".py",
   "mimetype": "text/x-python",
   "name": "python",
   "nbconvert_exporter": "python",
   "pygments_lexer": "ipython3",
   "version": "3.8.8"
  }
 },
 "nbformat": 4,
 "nbformat_minor": 5
}
