{
 "cells": [
  {
   "cell_type": "markdown",
   "id": "05df8b4f",
   "metadata": {},
   "source": [
    "when writing a program and executing it we oftns encounter error"
   ]
  },
  {
   "cell_type": "code",
   "execution_count": 1,
   "id": "5c70a20d",
   "metadata": {},
   "outputs": [
    {
     "name": "stdout",
     "output_type": "stream",
     "text": [
      "I am here\n"
     ]
    }
   ],
   "source": [
    "try:\n",
    "    \"\"\"\n",
    "    The code which can give rise to an exception is writter wher\n",
    "    \"\"\"\n",
    "    a = \"100\"\n",
    "    b = int(a)\n",
    "    print(\"I am here\") \n",
    "    \n",
    "except:\n",
    "    print(\"Exeption caught!\")\n",
    "    "
   ]
  },
  {
   "cell_type": "code",
   "execution_count": 2,
   "id": "54dc7925",
   "metadata": {},
   "outputs": [
    {
     "name": "stdout",
     "output_type": "stream",
     "text": [
      "Devision is zero is not possible\n"
     ]
    }
   ],
   "source": [
    "#catching specific exceptions\n",
    "\n",
    "try:\n",
    "    a = 5\n",
    "    b = 0\n",
    "    c = a/b\n",
    "    \n",
    "except ZeroDivisionError:\n",
    "    print(\"Devision is zero is not possible\")"
   ]
  },
  {
   "cell_type": "code",
   "execution_count": 3,
   "id": "a5378e0d",
   "metadata": {},
   "outputs": [
    {
     "name": "stdout",
     "output_type": "stream",
     "text": [
      "Type Exception caught\n"
     ]
    }
   ],
   "source": [
    "#Execution can be raised also\n",
    "try:\n",
    "    raise TypeError\n",
    "except  TypeError:\n",
    "    print(\"Type Exception caught\")"
   ]
  },
  {
   "cell_type": "code",
   "execution_count": 4,
   "id": "f0e21f23",
   "metadata": {},
   "outputs": [
    {
     "name": "stdout",
     "output_type": "stream",
     "text": [
      "In try block\n",
      "In excpt block\n",
      "in the finally block\n"
     ]
    }
   ],
   "source": [
    "#try & finally\n",
    "\n",
    "try:\n",
    "    print(\"In try block\")\n",
    "    raise Typeerror\n",
    "except:\n",
    "    print(\"In excpt block\")\n",
    "finally:\n",
    "    print(\"in the finally block\")"
   ]
  },
  {
   "cell_type": "code",
   "execution_count": 5,
   "id": "604a5a30",
   "metadata": {},
   "outputs": [
    {
     "name": "stdout",
     "output_type": "stream",
     "text": [
      "Please enter the first nuumber...10\n",
      "Please enter the second number....20\n",
      "The data items are not defined\n"
     ]
    }
   ],
   "source": [
    "#catching specific exceptions\n",
    "\n",
    "try:\n",
    "    a = int(input(\"Please enter the first nuumber...\"))\n",
    "    b = int(input(\"Please enter the second number....\"))\n",
    "    if(a < 0):\n",
    "        raise TypeError\n",
    "    c = x/y\n",
    "    print(\"{} / {} = {}\".format(a, b, c))\n",
    "except ZeroDivisionError:\n",
    "    print(\"Division by zero is not possible\")\n",
    "except ValueError:\n",
    "    print(\"The data type are not proper\")\n",
    "except TypeError:\n",
    "    print(\"The data is not in range\")\n",
    "except NameError:\n",
    "    print(\"The data items are not defined\")"
   ]
  },
  {
   "cell_type": "code",
   "execution_count": 7,
   "id": "3b2cbc43",
   "metadata": {},
   "outputs": [
    {
     "name": "stdout",
     "output_type": "stream",
     "text": [
      "Age is 12\n",
      "Age is less than 18\n",
      "End of the program\n"
     ]
    }
   ],
   "source": [
    "#userdefine exceptions\n",
    "\n",
    "class VoterEiligibility(Exception):\n",
    "    def __init__(self):\n",
    "        super()\n",
    "        \n",
    "try:\n",
    "    age = 12\n",
    "    print(\"Age is \" +str(age))\n",
    "    if age<18:\n",
    "        raise VoterEiligibility\n",
    "        \n",
    "except VoterEiligibility:\n",
    "    print(\"Age is less than 18\")\n",
    "except TypeError:\n",
    "    print(\"Age is not numeric\")\n",
    "else:\n",
    "    print(\"Age is greater tha or equal to 18\")\n",
    "finally:\n",
    "    print(\"End of the program\")"
   ]
  },
  {
   "cell_type": "code",
   "execution_count": null,
   "id": "e3775fb9",
   "metadata": {},
   "outputs": [],
   "source": []
  }
 ],
 "metadata": {
  "kernelspec": {
   "display_name": "Python 3",
   "language": "python",
   "name": "python3"
  },
  "language_info": {
   "codemirror_mode": {
    "name": "ipython",
    "version": 3
   },
   "file_extension": ".py",
   "mimetype": "text/x-python",
   "name": "python",
   "nbconvert_exporter": "python",
   "pygments_lexer": "ipython3",
   "version": "3.8.8"
  }
 },
 "nbformat": 4,
 "nbformat_minor": 5
}
