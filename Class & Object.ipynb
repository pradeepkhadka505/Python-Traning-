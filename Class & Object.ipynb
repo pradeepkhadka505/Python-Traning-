{
 "cells": [
  {
   "cell_type": "code",
   "execution_count": 17,
   "id": "8938ab73",
   "metadata": {},
   "outputs": [],
   "source": [
    "class MyComplexNumber:\n",
    "    #constructor methonds\n",
    "    def __init__(self, real = 0, imag = 0):\n",
    "        print(\"MyComplexNumber constructor executing ....\")\n",
    "        self.real_part = real\n",
    "        self.imag_part = imag\n",
    "        \n",
    "    \n",
    "    def displayComplex(self):\n",
    "        print(\"{0} + {1}j\".format(self.real_part,self.imag_part))\n",
    "        "
   ]
  },
  {
   "cell_type": "code",
   "execution_count": 19,
   "id": "593c3086",
   "metadata": {},
   "outputs": [
    {
     "name": "stdout",
     "output_type": "stream",
     "text": [
      "MyComplexNumber constructor executing ....\n",
      "40 + 50j\n"
     ]
    }
   ],
   "source": [
    "#create a new obect aganist MyComplexNumber class \n",
    "\n",
    "complex1 = MyComplexNumber(40,50)\n",
    "\n",
    "#calling displayComplex() function\n",
    "#output: 40 + 5\n",
    "\n",
    "complex1.displayComplex()\n"
   ]
  },
  {
   "cell_type": "code",
   "execution_count": 28,
   "id": "398ebaa2",
   "metadata": {},
   "outputs": [
    {
     "name": "stdout",
     "output_type": "stream",
     "text": [
      "MyComplexNumber constructor executing ....\n",
      "60 + 70j\n",
      "(60, 70, 80)\n"
     ]
    }
   ],
   "source": [
    "#create anpothe object aganist MyComplexNumber Class\n",
    "#and create a new attribute 'new_attribute'\n",
    "\n",
    "complex2 = MyComplexNumber(60,70)\n",
    "complex2.new_attribute = 80\n",
    "complex2.displayComplex()\n",
    "\n",
    "#Output : (60, 70, 80)\n",
    "print((complex2.real_part, complex2.imag_part, complex2.new_attribute))"
   ]
  },
  {
   "cell_type": "code",
   "execution_count": 41,
   "id": "b591d714",
   "metadata": {},
   "outputs": [
    {
     "ename": "NameError",
     "evalue": "name 'complex1' is not defined",
     "output_type": "error",
     "traceback": [
      "\u001b[1;31m---------------------------------------------------------------------------\u001b[0m",
      "\u001b[1;31mNameError\u001b[0m                                 Traceback (most recent call last)",
      "\u001b[1;32m<ipython-input-41-368c311ff7f7>\u001b[0m in \u001b[0;36m<module>\u001b[1;34m\u001b[0m\n\u001b[0;32m      2\u001b[0m \u001b[1;31m#attributeError : 'MyComplexNumber' object has no attribute, new attribute\"\u001b[0m\u001b[1;33m\u001b[0m\u001b[1;33m\u001b[0m\u001b[1;33m\u001b[0m\u001b[0m\n\u001b[0;32m      3\u001b[0m \u001b[1;33m\u001b[0m\u001b[0m\n\u001b[1;32m----> 4\u001b[1;33m \u001b[0mcomplex1\u001b[0m\u001b[1;33m.\u001b[0m\u001b[0mnew_attribute\u001b[0m\u001b[1;33m\u001b[0m\u001b[1;33m\u001b[0m\u001b[0m\n\u001b[0m",
      "\u001b[1;31mNameError\u001b[0m: name 'complex1' is not defined"
     ]
    }
   ],
   "source": [
    "#but complex1 object doesn;t have attribute 'new attribute \n",
    "#attributeError : 'MyComplexNumber' object has no attribute, new attribute\"\n",
    "\n",
    "complex1.new_attribute"
   ]
  },
  {
   "cell_type": "code",
   "execution_count": 42,
   "id": "2c32af3e",
   "metadata": {},
   "outputs": [
    {
     "ename": "NameError",
     "evalue": "name 'complex1' is not defined",
     "output_type": "error",
     "traceback": [
      "\u001b[1;31m---------------------------------------------------------------------------\u001b[0m",
      "\u001b[1;31mNameError\u001b[0m                                 Traceback (most recent call last)",
      "\u001b[1;32m<ipython-input-42-cd24f811b02f>\u001b[0m in \u001b[0;36m<module>\u001b[1;34m\u001b[0m\n\u001b[0;32m      1\u001b[0m \u001b[1;31m#Deleting object atribute and the object\u001b[0m\u001b[1;33m\u001b[0m\u001b[1;33m\u001b[0m\u001b[1;33m\u001b[0m\u001b[0m\n\u001b[0;32m      2\u001b[0m \u001b[1;33m\u001b[0m\u001b[0m\n\u001b[1;32m----> 3\u001b[1;33m \u001b[0mprint\u001b[0m\u001b[1;33m(\u001b[0m\u001b[0mcomplex1\u001b[0m\u001b[1;33m)\u001b[0m\u001b[1;33m\u001b[0m\u001b[1;33m\u001b[0m\u001b[0m\n\u001b[0m\u001b[0;32m      4\u001b[0m \u001b[1;32mdel\u001b[0m \u001b[0mcomplex1\u001b[0m\u001b[1;33m.\u001b[0m\u001b[0mreal_part\u001b[0m\u001b[1;33m\u001b[0m\u001b[1;33m\u001b[0m\u001b[0m\n\u001b[0;32m      5\u001b[0m \u001b[1;32mdel\u001b[0m \u001b[0mcomplex1\u001b[0m\u001b[1;33m\u001b[0m\u001b[1;33m\u001b[0m\u001b[0m\n",
      "\u001b[1;31mNameError\u001b[0m: name 'complex1' is not defined"
     ]
    }
   ],
   "source": [
    "#Deleting object atribute and the object \n",
    "\n",
    "print(complex1)\n",
    "del complex1.real_part\n",
    "del complex1\n"
   ]
  },
  {
   "cell_type": "code",
   "execution_count": 43,
   "id": "df8b2c3e",
   "metadata": {},
   "outputs": [
    {
     "ename": "NameError",
     "evalue": "name 'compplex1' is not defined",
     "output_type": "error",
     "traceback": [
      "\u001b[1;31m---------------------------------------------------------------------------\u001b[0m",
      "\u001b[1;31mNameError\u001b[0m                                 Traceback (most recent call last)",
      "\u001b[1;32m<ipython-input-43-ce3468381fe1>\u001b[0m in \u001b[0;36m<module>\u001b[1;34m\u001b[0m\n\u001b[1;32m----> 1\u001b[1;33m \u001b[0mprint\u001b[0m\u001b[1;33m(\u001b[0m\u001b[0mcompplex1\u001b[0m\u001b[1;33m)\u001b[0m\u001b[1;33m\u001b[0m\u001b[1;33m\u001b[0m\u001b[0m\n\u001b[0m",
      "\u001b[1;31mNameError\u001b[0m: name 'compplex1' is not defined"
     ]
    }
   ],
   "source": [
    "print(compplex1)"
   ]
  },
  {
   "cell_type": "code",
   "execution_count": null,
   "id": "8ee71a5c",
   "metadata": {},
   "outputs": [],
   "source": []
  }
 ],
 "metadata": {
  "kernelspec": {
   "display_name": "Python 3",
   "language": "python",
   "name": "python3"
  },
  "language_info": {
   "codemirror_mode": {
    "name": "ipython",
    "version": 3
   },
   "file_extension": ".py",
   "mimetype": "text/x-python",
   "name": "python",
   "nbconvert_exporter": "python",
   "pygments_lexer": "ipython3",
   "version": "3.8.8"
  }
 },
 "nbformat": 4,
 "nbformat_minor": 5
}
