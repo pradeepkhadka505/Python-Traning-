{
 "cells": [
  {
   "cell_type": "markdown",
   "id": "de82fdb4",
   "metadata": {},
   "source": [
    "IF there are a larage numbe of  files to handle in your \n",
    "python program, we can arrage our code with in different directories to make things\n",
    "more manageabe and reachable\n",
    "\n",
    "A directory or folder is a collection of a set of files and sun directories\n",
    "\n",
    "python has the os module which provides us with many usefull methods to work with directories \n",
    "(and files as well)\n",
    "\n",
    "Directory management in python means creating a directory, renaming it, listing all directories and working with them.\n",
    "\n"
   ]
  },
  {
   "cell_type": "code",
   "execution_count": 2,
   "id": "ccd13785",
   "metadata": {},
   "outputs": [
    {
     "name": "stdout",
     "output_type": "stream",
     "text": [
      "C:\\Users\\acer\\Desktop\\Python-Traning-\n",
      "b'C:\\\\Users\\\\acer\\\\Desktop\\\\Python-Traning-'\n"
     ]
    }
   ],
   "source": [
    "import os\n",
    "print(os.getcwd())     #this retrun current working directories\n",
    "print(os.getcwdb())    #this returns the present workign directory as a byte object"
   ]
  },
  {
   "cell_type": "code",
   "execution_count": 13,
   "id": "7c773166",
   "metadata": {},
   "outputs": [
    {
     "name": "stdout",
     "output_type": "stream",
     "text": [
      "['.git', '.ipynb_checkpoints', 'basic.py', 'Class & Object.ipynb', 'datatypes.ipynb', 'example.txt', 'list-array.ipynb', 'Python-directory and file management .ipynb', 'python-keyword.ipynb', 'README.md', 'Sets .ipynb', 'tuples.ipynb']\n"
     ]
    }
   ],
   "source": [
    "print(os.listdir())"
   ]
  },
  {
   "cell_type": "code",
   "execution_count": 4,
   "id": "bb59b487",
   "metadata": {},
   "outputs": [],
   "source": [
    "#use to make a new directory\n",
    "os.mkdir('Test')"
   ]
  },
  {
   "cell_type": "code",
   "execution_count": 6,
   "id": "29072af8",
   "metadata": {},
   "outputs": [],
   "source": [
    "#used to rename a directory\n",
    "os.rename(\"Test\", \"New_one\")"
   ]
  },
  {
   "cell_type": "code",
   "execution_count": 12,
   "id": "602ae5db",
   "metadata": {},
   "outputs": [],
   "source": [
    "#Removing a file and directory\n",
    "#os.remove(\"Test\")\n",
    "os.rmdir('New_one')"
   ]
  },
  {
   "cell_type": "code",
   "execution_count": 15,
   "id": "ac35abac",
   "metadata": {},
   "outputs": [
    {
     "name": "stdout",
     "output_type": "stream",
     "text": [
      " Volume in drive C has no label.\n",
      " Volume Serial Number is 0E7A-83C2\n",
      "\n",
      " Directory of C:\\Users\\acer\\Desktop\\Python-Traning-\n",
      "\n",
      "02/13/2023  12:40 PM    <DIR>          .\n",
      "02/13/2023  12:40 PM    <DIR>          ..\n",
      "02/13/2023  12:27 PM    <DIR>          .ipynb_checkpoints\n",
      "02/08/2023  10:05 PM                 0 basic.py\n",
      "02/08/2023  11:11 PM             6,105 Class & Object.ipynb\n",
      "02/08/2023  10:37 PM             2,536 datatypes.ipynb\n",
      "02/12/2023  04:24 PM                12 example.txt\n",
      "02/11/2023  12:36 AM             6,037 list-array.ipynb\n",
      "02/13/2023  12:39 PM             2,759 Python-directory and file management .ipynb\n",
      "02/12/2023  04:26 PM            10,723 python-keyword.ipynb\n",
      "02/08/2023  10:03 PM                17 README.md\n",
      "02/13/2023  12:14 PM            10,696 Sets .ipynb\n",
      "02/13/2023  11:10 AM             9,578 tuples.ipynb\n",
      "              10 File(s)         48,463 bytes\n",
      "               3 Dir(s)  34,726,694,912 bytes free\n"
     ]
    }
   ],
   "source": [
    "\n"
   ]
  },
  {
   "cell_type": "code",
   "execution_count": null,
   "id": "d91ad9a1",
   "metadata": {},
   "outputs": [],
   "source": []
  }
 ],
 "metadata": {
  "kernelspec": {
   "display_name": "Python 3",
   "language": "python",
   "name": "python3"
  },
  "language_info": {
   "codemirror_mode": {
    "name": "ipython",
    "version": 3
   },
   "file_extension": ".py",
   "mimetype": "text/x-python",
   "name": "python",
   "nbconvert_exporter": "python",
   "pygments_lexer": "ipython3",
   "version": "3.8.8"
  }
 },
 "nbformat": 4,
 "nbformat_minor": 5
}
