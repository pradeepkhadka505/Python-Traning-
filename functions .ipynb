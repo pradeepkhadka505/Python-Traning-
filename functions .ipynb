{
 "cells": [
  {
   "cell_type": "code",
   "execution_count": 2,
   "id": "955da1a5",
   "metadata": {},
   "outputs": [
    {
     "name": "stdout",
     "output_type": "stream",
     "text": [
      "Max number between 20 and 30 is :  30\n"
     ]
    }
   ],
   "source": [
    "def findMax(a,b):\n",
    "    if a>b:\n",
    "        return a\n",
    "    else:\n",
    "        return b\n",
    "\n",
    "print(\"Max number between 20 and 30 is : \", findMax(20, 30))"
   ]
  },
  {
   "cell_type": "code",
   "execution_count": 11,
   "id": "1a01a9c7",
   "metadata": {},
   "outputs": [
    {
     "name": "stdout",
     "output_type": "stream",
     "text": [
      "Hello mera , have a nice day.\n",
      "Hello mera ,how are you?\n"
     ]
    }
   ],
   "source": [
    "def hello(name, msg= \",how are you?\"):  #fnctions with difult parameter\n",
    "    print(\"Hello\", name,msg)\n",
    "        \n",
    "hello(\"mera\", \", have a nice day.\")\n",
    "hello(\"mera\")"
   ]
  },
  {
   "cell_type": "code",
   "execution_count": 12,
   "id": "1ce0029b",
   "metadata": {},
   "outputs": [
    {
     "name": "stdout",
     "output_type": "stream",
     "text": [
      "Sum of all the integers between 1 and 5 is  15\n"
     ]
    }
   ],
   "source": [
    "def sumAll(*args):\n",
    "    sum = 0\n",
    "    for i in args:\n",
    "        sum += i\n",
    "    return sum\n",
    "print(\"Sum of all the integers between 1 and 5 is \", sumAll(1,2,3,4,5))"
   ]
  },
  {
   "cell_type": "code",
   "execution_count": 14,
   "id": "f071dca6",
   "metadata": {},
   "outputs": [
    {
     "name": "stdout",
     "output_type": "stream",
     "text": [
      "a = 10, b = 20, c = 30...\n"
     ]
    }
   ],
   "source": [
    "def defaultArg(a,b,c):\n",
    "    print(\"a = {}, b = {}, c = {}...\".format(a,b,c))\n",
    "    \n",
    "defaultArg(10,20,30)"
   ]
  },
  {
   "cell_type": "code",
   "execution_count": 17,
   "id": "6e44b401",
   "metadata": {},
   "outputs": [
    {
     "name": "stdout",
     "output_type": "stream",
     "text": [
      "Hello i love to code in pythons\n",
      "Hello i love to code in pythons\n"
     ]
    }
   ],
   "source": [
    "#functions\n",
    "\n",
    "def hello1():\n",
    "    print(\"Hello i love to code in pythons\")\n",
    "    \n",
    "def hello2():\n",
    "    return \"Hello i love to code in pythons\"\n",
    "hello1()\n",
    "\n",
    "print(hello2())"
   ]
  },
  {
   "cell_type": "code",
   "execution_count": null,
   "id": "ab1920b1",
   "metadata": {},
   "outputs": [
    {
     "name": "stdout",
     "output_type": "stream",
     "text": [
      "Manin Menu ...\n",
      "1 > Addition operations ...\n",
      "2 > Substraction operations ...\n",
      "3 > Multipication operations ...\n",
      "4 > division operations ...\n"
     ]
    }
   ],
   "source": [
    "\n",
    "def add(x,y):\n",
    "    print(\"Additions performing : \")\n",
    "    return(x+y)\n",
    "def sub(x,y):\n",
    "    print(\"Substraction \")\n",
    "    return(x-y)\n",
    "def mul(x,y):\n",
    "    print(\"multuply\")\n",
    "    return(x*y)\n",
    "def div(x,y):\n",
    "    print(\"division\")\n",
    "    return(x/y)\n",
    "\n",
    "def myMenu():\n",
    "    print(\"Manin Menu ...\")\n",
    "    print(\"1 > Addition operations ...\")\n",
    "    print(\"2 > Substraction operations ...\")\n",
    "    print(\"3 > Multipication operations ...\")\n",
    "    print(\"4 > division operations ...\")\n",
    "    \n",
    "    ch = int(input(\"please enter your options number ...\"))\n",
    "    return ch\n",
    "\n",
    "def calculation():\n",
    "    ch = myMenu()\n",
    "    num1 = int(input(\"please enter a first number: \"))\n",
    "    num2 = int(input(\"please enter a second number: \"))\n",
    "    if ch == 1:\n",
    "        result  = add(num1, num2)\n",
    "    elif ch == 2:\n",
    "        result = sub(num1, num2)\n",
    "    elif ch == 3:\n",
    "        result = mul(num1, num2)\n",
    "    elif ch== 4:\n",
    "        result = div(num1, num2)\n",
    "    print(\"so result = \", result)\n",
    "    \n",
    "calculation()"
   ]
  },
  {
   "cell_type": "code",
   "execution_count": null,
   "id": "2d0ccd4b",
   "metadata": {},
   "outputs": [],
   "source": [
    "import random as r\n",
    "\n",
    "rand_num = r.randrange(1,20)\n",
    "print(\"Number to br guessed : \", rand_num)\n",
    "i = 1\n",
    "while True:\n",
    "    print(\"Number Guessed : \", i)\n",
    "    if(i == rand_num):\n",
    "        print(\"Random number has been guessed successfully\")\n",
    "        break\n",
    "        \n",
    "    i += 1\n",
    "print(\"End o the program....\")"
   ]
  },
  {
   "cell_type": "code",
   "execution_count": null,
   "id": "b01a76d7",
   "metadata": {},
   "outputs": [],
   "source": [
    "#program to print only the even numbers betweeen 1 and 19 using continue\n",
    "\n",
    "for i in range(1, 20):\n",
    "    if (i%2 != 0):\n",
    "        continue\n",
    "    print(i)"
   ]
  },
  {
   "cell_type": "code",
   "execution_count": null,
   "id": "b9c29b83",
   "metadata": {},
   "outputs": [],
   "source": []
  }
 ],
 "metadata": {
  "kernelspec": {
   "display_name": "Python 3",
   "language": "python",
   "name": "python3"
  },
  "language_info": {
   "codemirror_mode": {
    "name": "ipython",
    "version": 3
   },
   "file_extension": ".py",
   "mimetype": "text/x-python",
   "name": "python",
   "nbconvert_exporter": "python",
   "pygments_lexer": "ipython3",
   "version": "3.8.8"
  }
 },
 "nbformat": 4,
 "nbformat_minor": 5
}
