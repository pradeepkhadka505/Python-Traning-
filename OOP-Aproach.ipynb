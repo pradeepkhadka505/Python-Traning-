{
 "cells": [
  {
   "cell_type": "markdown",
   "id": "10339909",
   "metadata": {},
   "source": [
    "#Major OOP approach\n",
    "\n",
    "Inheritance: A Process of using details from a new class\n",
    "without modifying existing class.\n",
    "\n",
    "Encapsulation : Hiding the private details of a class from other objects\n",
    "    \n",
    "Polymorphism :A concept of using common operations in differnt ways for differnt data input\n",
    "    "
   ]
  },
  {
   "cell_type": "code",
   "execution_count": 2,
   "id": "62e025c2",
   "metadata": {},
   "outputs": [],
   "source": [
    "#demonstion of creating clas and object in python\n",
    "class myBird:\n",
    "    \n",
    "    def __init__(self):\n",
    "        print(\"myBird class constructor is executing...\")\n",
    "        \n",
    "    def whatType(self):\n",
    "        print(\"i am a bird\")\n",
    "    \n",
    "    def canSwim(self):\n",
    "        print(\"i can swim\")\n",
    "        \n",
    "    "
   ]
  },
  {
   "cell_type": "code",
   "execution_count": 3,
   "id": "39a5724f",
   "metadata": {},
   "outputs": [],
   "source": [
    "class myParrot:\n",
    "    #class attribute\n",
    "    species = \"bird\"\n",
    "    \n",
    "    #instance attribute \n",
    "    def __init__(self, name, age):\n",
    "        print(\"myparrot class constructor is executing ..\")\n",
    "        \n",
    "        self.name = name \n",
    "        self.age = age\n",
    "        \n",
    "    def canSing(self, thisSong):\n",
    "        return \"{} can sing {},...\".format(self.name, thisSong)\n",
    "    \n",
    "    "
   ]
  },
  {
   "cell_type": "code",
   "execution_count": 4,
   "id": "6342dedb",
   "metadata": {},
   "outputs": [],
   "source": [
    "#myParrot class inheritance the attrubte from the mybird class\n",
    "\n",
    "class myPenguin(myBird):\n",
    "    def __init__(self):\n",
    "        #call super() functions\n",
    "        super().__init__()\n",
    "        print(\"Penguin is ready\")\n",
    "        \n",
    "    def whoisThis(self):\n",
    "        print(\"i am penguin\")\n",
    "        \n",
    "    def canRun(self):\n",
    "        print(\"i cam run faster\")\n",
    "        "
   ]
  },
  {
   "cell_type": "code",
   "execution_count": 6,
   "id": "f7187bba",
   "metadata": {},
   "outputs": [
    {
     "name": "stdout",
     "output_type": "stream",
     "text": [
      "myparrot class constructor is executing ..\n",
      "myparrot class constructor is executing ..\n",
      "Mp1 is a bird\n",
      "Mp2 is also a bird\n",
      "MyParrot1 is 10 years of age \n",
      "MyParrot1 is 10 years of age \n",
      "MyParrot1 can sing Chrip,...\n",
      "myBird class constructor is executing...\n",
      "Penguin is ready\n",
      "i am penguin\n",
      "i can swim\n",
      "i cam run faster\n"
     ]
    }
   ],
   "source": [
    "mp1 = myParrot(\"MyParrot1\", 10)\n",
    "mp2 = myParrot(\"MyParrot\", 15)\n",
    "\n",
    "#acessing the class attributes\n",
    "print(\"Mp1 is a {}\".format(mp1.__class__.species))\n",
    "print(\"Mp2 is also a {}\".format(mp2.__class__.species))\n",
    "\n",
    "\n",
    "#access the instance attribute\n",
    "print(\"{} is {} years of age \".format(mp1.name, mp1.age))\n",
    "print(\"{} is {} years of age \".format(mp1.name, mp1.age))\n",
    "\n",
    "print(mp1.canSing(\"Chrip\"))\n",
    "\n",
    "#Acessing hild class attributes inheritance\n",
    "pg1 = myPenguin()\n",
    "pg1.whoisThis()\n",
    "pg1.canSwim()\n",
    "pg1.canRun()"
   ]
  },
  {
   "cell_type": "code",
   "execution_count": 13,
   "id": "8acb173e",
   "metadata": {},
   "outputs": [
    {
     "name": "stdout",
     "output_type": "stream",
     "text": [
      "selling price: 20000\n",
      "selling price: 20000\n",
      "selling price: 40000\n"
     ]
    }
   ],
   "source": [
    "#data encapsulations\n",
    "class personalComputer:\n",
    "    \n",
    "    def __init__(self):\n",
    "        self.maxComputerPrice = 20000\n",
    "        \n",
    "    def mySell(self):\n",
    "        print(\"selling price: {}\".format(self.maxComputerPrice))\n",
    "        \n",
    "    def setMaxComputerPrice(self, price):\n",
    "        self.maxComputerPrice = price\n",
    "\n",
    "pc = personalComputer()\n",
    "pc.mySell()\n",
    "\n",
    "#change the price\n",
    "pc.maxComputerprice = 30000\n",
    "pc.mySell()\n",
    "\n",
    "#using setter functions\n",
    "pc.setMaxComputerPrice(40000)\n",
    "pc.mySell()\n"
   ]
  },
  {
   "cell_type": "code",
   "execution_count": 21,
   "id": "c77307b2",
   "metadata": {},
   "outputs": [],
   "source": [
    "#operator overloading \n",
    "\n",
    "class myPoint:\n",
    "    def __init__(self , x =0, y =0):\n",
    "        self.x = x \n",
    "        self.y = y\n",
    "        \n",
    "    def __str__(self):\n",
    "        return \"({0}, {1})\".format(self.x, self.y)\n",
    "    \n",
    "    #Overloading + operator \n",
    "    def __add__(self, other):\n",
    "        x = self.x + other.x\n",
    "        y = self.y + other.y\n",
    "        return myPoint(x, y)\n",
    "\n",
    "    #Overloading <operator\n",
    "    def __lt__(self, other):\n",
    "        self_mag = (self.x ** 2) + (self.y ** 2)\n",
    "        other_mag = (other.x ** 2) + (other.y ** 2)\n",
    "        return self_mag < other_mag"
   ]
  },
  {
   "cell_type": "code",
   "execution_count": 22,
   "id": "ce9b8d45",
   "metadata": {},
   "outputs": [
    {
     "name": "stdout",
     "output_type": "stream",
     "text": [
      "(1, 2)\n",
      "(4, 6)\n",
      "\n",
      "True\n",
      "(5, 8)\n",
      "\n",
      "True\n",
      "(5, 8)\n"
     ]
    }
   ],
   "source": [
    "p1 = myPoint(1,2)\n",
    "p2 = myPoint(4,6)\n",
    "\n",
    "print(p1)\n",
    "print(p2)\n",
    "print()\n",
    "print(p1 < p2)\n",
    "print(p1 + p2)\n",
    "print()\n",
    "print(p1.__lt__(p2))\n",
    "print(p1.__add__(p2))"
   ]
  },
  {
   "cell_type": "code",
   "execution_count": 29,
   "id": "476ad387",
   "metadata": {},
   "outputs": [
    {
     "name": "stdout",
     "output_type": "stream",
     "text": [
      "1 1\n",
      "1 2\n",
      "2 1\n",
      "2 2\n",
      "3 1\n",
      "3 2\n",
      "4 1\n",
      "4 2\n",
      "5 1\n",
      "5 2\n"
     ]
    }
   ],
   "source": [
    "for i in range(1, 6):\n",
    "    for j in range(1, 3):\n",
    "        print(i,j)"
   ]
  },
  {
   "cell_type": "code",
   "execution_count": 30,
   "id": "bb2c88f3",
   "metadata": {},
   "outputs": [
    {
     "name": "stdout",
     "output_type": "stream",
     "text": [
      "1\n",
      "2\n",
      "3\n",
      "4\n",
      "5\n",
      "end of the program\n"
     ]
    }
   ],
   "source": [
    "for i in range(1, 10):\n",
    "    print(i)\n",
    "    if i == 5:\n",
    "        break\n",
    "print(\"end of the program\")"
   ]
  },
  {
   "cell_type": "code",
   "execution_count": 32,
   "id": "3ea26703",
   "metadata": {},
   "outputs": [
    {
     "name": "stdout",
     "output_type": "stream",
     "text": [
      "End of the program..\n"
     ]
    }
   ],
   "source": [
    "#pass is just a placeholder for \n",
    "#functionality to be added later\n",
    "\n",
    "sequencce = {  'p', 'a', 's', 's'}\n",
    "for val in sequencce:\n",
    "    pass\n",
    "print(\"End of the program..\")"
   ]
  },
  {
   "cell_type": "code",
   "execution_count": 33,
   "id": "816540e6",
   "metadata": {},
   "outputs": [
    {
     "name": "stdout",
     "output_type": "stream",
     "text": [
      "i gor decorated \n",
      "i am a simple functions\n"
     ]
    }
   ],
   "source": [
    "#python deccorators\n",
    "def make_decorated(func):\n",
    "    \n",
    "    def inner_function():\n",
    "        print(\"i gor decorated \")\n",
    "        func()\n",
    "    return inner_function\n",
    "\n",
    "\n",
    "def simple_func():\n",
    "    print(\"i am a simple functions\")\n",
    "    \n",
    "decor = make_decorated(simple_func)\n",
    "decor()\n"
   ]
  },
  {
   "cell_type": "code",
   "execution_count": 46,
   "id": "43e262e2",
   "metadata": {},
   "outputs": [
    {
     "name": "stdout",
     "output_type": "stream",
     "text": [
      "i am dividing  20 and  2\n",
      "10.0\n",
      "i am dividing  20 and  0\n",
      "Oops division by zero is illegal ...!!\n",
      "None\n"
     ]
    }
   ],
   "source": [
    "#Another example \n",
    "\n",
    "def my_smart_div(func):\n",
    "    def inner_func(x,y):\n",
    "        print(\"i am dividing \" , x , \"and \",y)\n",
    "        \n",
    "        if y == 0:\n",
    "            print(\"Oops division by zero is illegal ...!!\")\n",
    "            return\n",
    "        \n",
    "        return func(x,y) \n",
    "    \n",
    "    return inner_func\n",
    "\n",
    "\n",
    "                    #Genearlly we define function and reassign as it\n",
    "                    # go_divde = my_smart_div(go_divde)\n",
    "@my_smart_div                 \n",
    "def go_divide(a,b):\n",
    "    \n",
    "    return a/b\n",
    "\n",
    "\n",
    "\n",
    "print(go_divide(20, 2))\n",
    "print(go_divide(20, 0))                 \n",
    "\n",
    "                  \n",
    "                  \n",
    "                "
   ]
  },
  {
   "cell_type": "code",
   "execution_count": null,
   "id": "111dac9f",
   "metadata": {},
   "outputs": [],
   "source": []
  },
  {
   "cell_type": "code",
   "execution_count": null,
   "id": "d475bef4",
   "metadata": {},
   "outputs": [],
   "source": []
  }
 ],
 "metadata": {
  "kernelspec": {
   "display_name": "Python 3",
   "language": "python",
   "name": "python3"
  },
  "language_info": {
   "codemirror_mode": {
    "name": "ipython",
    "version": 3
   },
   "file_extension": ".py",
   "mimetype": "text/x-python",
   "name": "python",
   "nbconvert_exporter": "python",
   "pygments_lexer": "ipython3",
   "version": "3.8.8"
  }
 },
 "nbformat": 4,
 "nbformat_minor": 5
}
