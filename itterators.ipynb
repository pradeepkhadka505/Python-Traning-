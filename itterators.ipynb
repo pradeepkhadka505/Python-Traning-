{
 "cells": [
  {
   "cell_type": "code",
   "execution_count": 3,
   "id": "a11c63b0",
   "metadata": {},
   "outputs": [
    {
     "name": "stdout",
     "output_type": "stream",
     "text": [
      "44\n",
      "77\n",
      "11\n"
     ]
    }
   ],
   "source": [
    "#defining a list\n",
    "\n",
    "our_list= [44,77,11,33]\n",
    "\n",
    "#get an iterator using iter() method\n",
    "our_iter = iter(our_list)\n",
    "\n",
    "##iterate through it using next() nethod\n",
    "\n",
    "##prints 44\n",
    "print(next(our_iter))\n",
    "\n",
    "##prints 77\n",
    "print(next(our_iter))\n",
    "\n",
    "##prints 11\n",
    "print(next(our_iter))"
   ]
  },
  {
   "cell_type": "code",
   "execution_count": 15,
   "id": "adfa2f8a",
   "metadata": {},
   "outputs": [],
   "source": [
    "##print 11\n",
    "# print(our_iter.__next__())\n",
    "\n",
    "# print(our_iter.__next__())\n",
    "\n",
    "# next(our_iter)\n",
    "\n"
   ]
  },
  {
   "cell_type": "code",
   "execution_count": 17,
   "id": "df5a83e3",
   "metadata": {},
   "outputs": [
    {
     "name": "stdout",
     "output_type": "stream",
     "text": [
      " class to implement an iteratior of powers of two\n",
      "1\n",
      "2\n",
      "4\n"
     ]
    }
   ],
   "source": [
    "#creating a custom iterator\n",
    "class pow_of_two:\n",
    "    ''' class to implement an iteratior of powers of two'''\n",
    "    \n",
    "    def __init__(self, max = 0):\n",
    "        self.max = max\n",
    "        \n",
    "    def __iter__(self):\n",
    "        self.n = 0\n",
    "        return self\n",
    "    \n",
    "    def __next__(self):\n",
    "        if self.n <= self.max:\n",
    "            result = 2 ** self.n\n",
    "            self.n += 1\n",
    "            return result\n",
    "        else:\n",
    "            raise StopIteration\n",
    "\n",
    "print(pow_of_two.__doc__)\n",
    "a = pow_of_two(4)\n",
    "i = iter(a)\n",
    "print(next(i))\n",
    "print(next(i))\n",
    "print(next(i))"
   ]
  },
  {
   "cell_type": "code",
   "execution_count": 18,
   "id": "f9b63cb6",
   "metadata": {},
   "outputs": [
    {
     "name": "stdout",
     "output_type": "stream",
     "text": [
      "1\n",
      "3\n",
      "5\n",
      "7\n"
     ]
    }
   ],
   "source": [
    "class Infinite_Iter:\n",
    "    \"\"\"Infinite iteratir to return all odd numbsers\"\"\"\n",
    "    \n",
    "    def __iter__(self):\n",
    "        self.num = 1\n",
    "        return self\n",
    "    def __next__(self):\n",
    "        num = self.num\n",
    "        self.num += 2\n",
    "        return num\n",
    "    \n",
    "i = Infinite_Iter()\n",
    "a = iter(i)\n",
    "\n",
    "print(next(a))\n",
    "print(next(a))\n",
    "print(next(a))\n",
    "print(next(a))"
   ]
  },
  {
   "cell_type": "code",
   "execution_count": 24,
   "id": "eb334cd5",
   "metadata": {},
   "outputs": [
    {
     "name": "stdout",
     "output_type": "stream",
     "text": [
      "1 hello\n",
      "2 hello\n",
      "3 hello\n",
      "4 hello\n",
      "5 hello\n"
     ]
    }
   ],
   "source": [
    "#priniting all the elemments present in a set\n",
    "a = [1,2,3,4,5]\n",
    "for i in a:\n",
    "    print(i, end=\" \")\n",
    "    print(\"hello\")"
   ]
  },
  {
   "cell_type": "code",
   "execution_count": 25,
   "id": "a2f0a2f6",
   "metadata": {},
   "outputs": [
    {
     "name": "stdout",
     "output_type": "stream",
     "text": [
      "6\n",
      "7\n",
      "8\n",
      "9\n",
      "10\n"
     ]
    }
   ],
   "source": [
    "#using range in for loop\n",
    "for i in range(6,11):\n",
    "    print(i)"
   ]
  },
  {
   "cell_type": "code",
   "execution_count": 26,
   "id": "5c3d905d",
   "metadata": {},
   "outputs": [
    {
     "name": "stdout",
     "output_type": "stream",
     "text": [
      "11\n",
      "12\n",
      "13\n",
      "14\n",
      "15\n",
      "Printing Competed\n"
     ]
    }
   ],
   "source": [
    "#using for loop for printing the valused present in the \n",
    "#tuple and using the else command in the for loop\n",
    "\n",
    "b = (11, 12,13, 14, 15)\n",
    "for i in b:\n",
    "    print(i)\n",
    "else:\n",
    "    print(\"Printing Competed\")"
   ]
  },
  {
   "cell_type": "code",
   "execution_count": null,
   "id": "5bb70bcd",
   "metadata": {},
   "outputs": [],
   "source": []
  }
 ],
 "metadata": {
  "kernelspec": {
   "display_name": "Python 3",
   "language": "python",
   "name": "python3"
  },
  "language_info": {
   "codemirror_mode": {
    "name": "ipython",
    "version": 3
   },
   "file_extension": ".py",
   "mimetype": "text/x-python",
   "name": "python",
   "nbconvert_exporter": "python",
   "pygments_lexer": "ipython3",
   "version": "3.8.8"
  }
 },
 "nbformat": 4,
 "nbformat_minor": 5
}
