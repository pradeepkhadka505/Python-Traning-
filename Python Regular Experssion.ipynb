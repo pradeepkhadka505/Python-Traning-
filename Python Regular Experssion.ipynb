{
 "cells": [
  {
   "cell_type": "code",
   "execution_count": 1,
   "id": "3bd2bea7",
   "metadata": {},
   "outputs": [
    {
     "name": "stdout",
     "output_type": "stream",
     "text": [
      "There is an ape\n"
     ]
    }
   ],
   "source": [
    "#regular expression allows you to locate and change\n",
    "#strings i n very powerfull ways\n",
    "#they work in almost exactly the same way in every\n",
    "#programming language as well\n",
    "\n",
    "#Regualr Experessions (Regex) are used to \n",
    "#1. Search for a specifice strng in a large amount of data\n",
    "#2. Very that a string has the proper format (Email, phone #)\n",
    "#3. Fina a string and replace it with another string\n",
    "#4. Format data into the proper form for importing fr example\n",
    "\n",
    "#import the Regex module\n",
    "\n",
    "import re\n",
    "\n",
    "\n",
    "#............. was a match found\n",
    "\n",
    "#search for ape in the string\n",
    "\n",
    "if re.search(\"ape\", \"The ape was at the apex\"):\n",
    "    print(\"There is an ape\")"
   ]
  },
  {
   "cell_type": "code",
   "execution_count": 3,
   "id": "7d4bb9f5",
   "metadata": {},
   "outputs": [
    {
     "name": "stdout",
     "output_type": "stream",
     "text": [
      "ape \n",
      "apex\n"
     ]
    }
   ],
   "source": [
    "import re \n",
    "\n",
    "#...........Get all Matches...........\n",
    "\n",
    "#findall() returns a list o matches\n",
    "#. is used to match any 1 charactr or space\n",
    "\n",
    "allApes = re.findall(\"ape.\", \"the ape was at the apex\")\n",
    "\n",
    "for i in allApes:\n",
    "    print(i)"
   ]
  },
  {
   "cell_type": "code",
   "execution_count": 6,
   "id": "058b2c13",
   "metadata": {},
   "outputs": [
    {
     "name": "stdout",
     "output_type": "stream",
     "text": [
      "(4, 8)\n",
      "ape \n",
      "(19, 23)\n",
      "apex\n"
     ]
    }
   ],
   "source": [
    "#finditer returns an iteratior of matching objects\n",
    "#you can use span to getthe locations\n",
    "\n",
    "theStr = \"The ape was at the apex\"\n",
    "\n",
    "for i in re.finditer(\"ape.\", theStr):\n",
    "    #span return a tuple\n",
    "    \n",
    "    locTuple = i.span()\n",
    "    print(locTuple)\n",
    "    \n",
    "    #slice the match out using the tuple values\n",
    "    print (theStr[locTuple[0]:locTuple[1]])"
   ]
  },
  {
   "cell_type": "code",
   "execution_count": 7,
   "id": "76de602f",
   "metadata": {},
   "outputs": [
    {
     "name": "stdout",
     "output_type": "stream",
     "text": [
      "rat\n",
      "mat\n",
      "fat\n",
      "pat\n",
      "\n"
     ]
    }
   ],
   "source": [
    "import re \n",
    "\n",
    "#.................. Match 1 of Serveral letters ..........\n",
    "\n",
    "#Squre brackets will match any one of the characters between\n",
    "#the brackets not including upper and lowercase value \n",
    "#unless they are listed \n",
    "\n",
    "animalStr = \"Cat rat mat fat pat\"\n",
    "\n",
    "allAnimals = re.findall(\"[crmfp]at\", animalStr)\n",
    "\n",
    "for i in allAnimals:\n",
    "    print(i)\n",
    "    \n",
    "print()"
   ]
  },
  {
   "cell_type": "code",
   "execution_count": 8,
   "id": "2bea9eb4",
   "metadata": {},
   "outputs": [
    {
     "name": "stdout",
     "output_type": "stream",
     "text": [
      "Cat\n",
      "mat\n",
      "fat\n",
      "\n"
     ]
    }
   ],
   "source": [
    "#we can also allow for characters in a range \n",
    "#Remember to include upper and lowercase letters\n",
    "\n",
    "animalStr = \"Cat rat mat fat pat\"\n",
    "\n",
    "someAnimals = re.findall(\"[c-mC-M]at\", animalStr)\n",
    "\n",
    "for i in someAnimals:\n",
    "    print(i)\n",
    "    \n",
    "print()"
   ]
  },
  {
   "cell_type": "code",
   "execution_count": 9,
   "id": "ddf63886",
   "metadata": {},
   "outputs": [
    {
     "name": "stdout",
     "output_type": "stream",
     "text": [
      "mat\n",
      "fat\n",
      "pat\n",
      "\n"
     ]
    }
   ],
   "source": [
    "#Use ^ to denote any character but whatever\n",
    "#between the brackets\n",
    "\n",
    "animalStr = \"Cat rat mat fat pat\"\n",
    "someAnimals = re.findall(\"[^Cr]at\", animalStr)\n",
    "for i in someAnimals:\n",
    "    print(i)\n",
    "print()"
   ]
  },
  {
   "cell_type": "code",
   "execution_count": 10,
   "id": "6d5673ed",
   "metadata": {},
   "outputs": [
    {
     "name": "stdout",
     "output_type": "stream",
     "text": [
      "owl owl mat pat\n"
     ]
    }
   ],
   "source": [
    "import re \n",
    "#----------- Replace all Matches -----------\n",
    "\n",
    "#Replae matching items in a string\n",
    "owlFood = \"rat cat mat pat\"\n",
    "\n",
    "#You can compile a regex into pattern objects which\n",
    "#provide additional methods\n",
    "\n",
    "regex = re.compile(\"[cr]at\")\n",
    "\n",
    "#sub() replace items that match the regex in the string\n",
    "#with the  1st attribute string passed to sub\n",
    "\n",
    "owlFood = regex.sub(\"owl\", owlFood)\n",
    "\n",
    "print(owlFood)"
   ]
  },
  {
   "cell_type": "code",
   "execution_count": 16,
   "id": "7ab6897e",
   "metadata": {},
   "outputs": [
    {
     "name": "stdout",
     "output_type": "stream",
     "text": [
      "Find \\stuff :  None\n",
      "Find \\stuff:  None\n",
      "Find \\stuff:  None\n"
     ]
    }
   ],
   "source": [
    "import re \n",
    "#-----------------soling backslash problems......\n",
    "\n",
    "#egex use the backslash to designae special characters\n",
    "#and python does the some inside string which casuses\n",
    "#isssues.\n",
    "\n",
    "#lets try to get \"\\\\stuff\" out of a string\n",
    "\n",
    "randStr = \"Here is \\\\Stuff\"\n",
    "\n",
    "#this won't find it\n",
    "print(\"Find \\stuff : \", re.search(\"\\\\stuff\",randStr))\n",
    "\n",
    "#this does, but we have to put it in 4 slashes whichs is \n",
    "#messy\n",
    "print(\"Find \\\\stuff: \", re.search(\"\\\\\\\\stuff\", randStr))\n",
    "\n",
    "\n",
    "#you can get aroung this by using raw strings which \n",
    "#don't treat backslashes as special\n",
    "\n",
    "print(\"Find \\\\stuff: \", re.search(\"\\\\stuff\", randStr))"
   ]
  },
  {
   "cell_type": "code",
   "execution_count": null,
   "id": "8c00ec8d",
   "metadata": {},
   "outputs": [],
   "source": []
  },
  {
   "cell_type": "code",
   "execution_count": null,
   "id": "b5f17874",
   "metadata": {},
   "outputs": [],
   "source": []
  }
 ],
 "metadata": {
  "kernelspec": {
   "display_name": "Python 3",
   "language": "python",
   "name": "python3"
  },
  "language_info": {
   "codemirror_mode": {
    "name": "ipython",
    "version": 3
   },
   "file_extension": ".py",
   "mimetype": "text/x-python",
   "name": "python",
   "nbconvert_exporter": "python",
   "pygments_lexer": "ipython3",
   "version": "3.8.8"
  }
 },
 "nbformat": 4,
 "nbformat_minor": 5
}
