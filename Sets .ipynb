{
 "cells": [
  {
   "cell_type": "markdown",
   "id": "e3287913",
   "metadata": {},
   "source": [
    "Sets are used to store multiple items in a single variables\n",
    "A set is a collection which is unordered, unchangable and unindex\n",
    "\n",
    "Sets are written with curly bracess."
   ]
  },
  {
   "cell_type": "code",
   "execution_count": 4,
   "id": "239e366a",
   "metadata": {},
   "outputs": [
    {
     "name": "stdout",
     "output_type": "stream",
     "text": [
      "{33, 66, 11, 44, 22, 55}\n",
      "{(21, 2, 1994), 101, 'ambo'}\n",
      "{33, 11, 44, 22, 55}\n"
     ]
    }
   ],
   "source": [
    "#creating sets \n",
    "#set  of integers\n",
    "\n",
    "my_set1 = {11, 33, 66, 55, 44, 22}\n",
    "print(my_set1)\n",
    "\n",
    "#sets of mixed datatypes \n",
    "my_set2 = {101, \"ambo\", (21, 2, 1994)}\n",
    "print(my_set2)\n",
    "\n",
    "#duplicate value are not allowed\n",
    "my_set3 = {11,22, 33, 33, 44, 55}\n",
    "print(my_set3)"
   ]
  },
  {
   "cell_type": "code",
   "execution_count": 11,
   "id": "c55ade8c",
   "metadata": {},
   "outputs": [
    {
     "name": "stdout",
     "output_type": "stream",
     "text": [
      "[11, 44, 22, 23]\n",
      "<class 'list'>\n"
     ]
    }
   ],
   "source": [
    "#set cannot have mutable items\n",
    "#my_set4 = {1, 2, [3, 4]}\n",
    "\n",
    "#we can make set from a list\n",
    "# my_set5 = set([1, 2, 3, 2])\n",
    "# print(my_set5)\n",
    "# print(type(my_set5))\n",
    "\n",
    "\n",
    "#we can make list from a set\n",
    "my_list1 = list({11,22, 23, 44})\n",
    "print(my_list1)\n",
    "print(type(my_list1))\n"
   ]
  },
  {
   "cell_type": "code",
   "execution_count": 15,
   "id": "efee2691",
   "metadata": {},
   "outputs": [
    {
     "name": "stdout",
     "output_type": "stream",
     "text": [
      "{33, 66, 11, 44, 55}\n",
      "{33, 66, 99, 11, 44, 55}\n",
      "{33, 66, 99, 11, 44, 22, 55, 88}\n",
      "{33, 66, 99, 100, 102, 103, 104, 105, 11, 44, 22, 55, 88}\n"
     ]
    }
   ],
   "source": [
    "#operations on sets\n",
    "my_set1 = {11, 33, 44, 66, 55}\n",
    "print(my_set1)\n",
    "\n",
    "# 'set' object does not support indexing \n",
    "#my_set1[0]    set doesn't support indexing \n",
    "\n",
    "#add an element \n",
    "my_set1.add(99)\n",
    "print(my_set1)\n",
    "\n",
    "#add multiple item in elements\n",
    "my_set1.update([88, 99, 22])\n",
    "print(my_set1)\n",
    "\n",
    "\n",
    "#add list and set \n",
    "my_set1.update([100, 102], {103, 104, 105})\n",
    "print(my_set1)"
   ]
  },
  {
   "cell_type": "code",
   "execution_count": 21,
   "id": "8cad9b86",
   "metadata": {},
   "outputs": [
    {
     "name": "stdout",
     "output_type": "stream",
     "text": [
      "{33, 66, 11, 44, 22, 55}\n",
      "{33, 66, 11, 44, 22, 55}\n",
      "{33, 66, 11, 44, 22, 55}\n",
      "{33, 66, 11, 22, 55}\n",
      "{33, 66, 11, 22}\n"
     ]
    }
   ],
   "source": [
    "#remove and discard\n",
    "#initilize my_set\n",
    "\n",
    "my_set1 = {11, 22, 33, 44, 55, 66}\n",
    "print(my_set1)\n",
    "\n",
    "#discard an eleemnt which is not present, no error\n",
    "my_set1.discard(4)\n",
    "print(my_set1)\n",
    "\n",
    "\n",
    "#remove an eleemnt which is not present, error raised\n",
    "#my_set.remove(6)\n",
    "print(my_set1)\n",
    "\n",
    "#discard an element \n",
    "my_set1.discard(44)\n",
    "print(my_set1)\n",
    "my_set1.remove(55)\n",
    "print(my_set1)\n",
    "\n"
   ]
  },
  {
   "cell_type": "code",
   "execution_count": 26,
   "id": "f04965a3",
   "metadata": {},
   "outputs": [
    {
     "name": "stdout",
     "output_type": "stream",
     "text": [
      "{33, 66, 11, 44, 55}\n",
      "33\n",
      "66\n",
      "{11, 44, 55}\n",
      "11\n",
      "{44, 55}\n",
      "set()\n"
     ]
    }
   ],
   "source": [
    "#using pop()\n",
    "#initilize  my set\n",
    "\n",
    "my_set1 = {11, 33, 44, 55, 66}\n",
    "print(my_set1)\n",
    "\n",
    "#pop on elment \n",
    "print(my_set1.pop())\n",
    "\n",
    "#pop another element \n",
    "print(my_set1.pop())\n",
    "print(my_set1)\n",
    "\n",
    "\n",
    "#pop another element \n",
    "\n",
    "print(my_set1.pop())\n",
    "print(my_set1)\n",
    "\n",
    "#clear my set\n",
    "my_set1.clear()\n",
    "print(my_set1)"
   ]
  },
  {
   "cell_type": "code",
   "execution_count": 31,
   "id": "16a38950",
   "metadata": {},
   "outputs": [
    {
     "name": "stdout",
     "output_type": "stream",
     "text": [
      "{0, 1, 2, 3, 4, 5, 6, 7, 8, 9}\n",
      "{0, 1, 2, 3, 4, 5, 6, 7, 8, 9}\n",
      "{0, 1, 2, 3, 4, 5, 6, 7, 8, 9}\n",
      "{0, 1, 2, 3, 4, 5, 6, 7, 8, 9}\n"
     ]
    }
   ],
   "source": [
    "#perfroming some sets operations\n",
    "\n",
    "#union operations\n",
    "\n",
    "my_set1 = {0,1,2,3,4,5}\n",
    "my_set2 = {4,5,6,7,8,9}\n",
    "\n",
    "#use | oeprator for union\n",
    "\n",
    "print(my_set1 | my_set2)\n",
    "print(my_set2 | my_set1)\n",
    "print(my_set1.union(my_set2))\n",
    "print(my_set2.union(my_set1))"
   ]
  },
  {
   "cell_type": "code",
   "execution_count": 36,
   "id": "8ae7f396",
   "metadata": {},
   "outputs": [
    {
     "name": "stdout",
     "output_type": "stream",
     "text": [
      "{0, 1, 2, 3, 4, 5}\n",
      "{4, 5, 6, 7.8, 9}\n",
      "{4, 5}\n",
      "{4, 5}\n",
      "{4, 5}\n",
      "{4, 5}\n"
     ]
    }
   ],
   "source": [
    "#set oeprations -intersections\n",
    "\n",
    "myset1 = {0,1,2,3,4,5}\n",
    "myset2 = {4,5,6,7.8,9}\n",
    "\n",
    "print(myset1)\n",
    "print(myset2)\n",
    "\n",
    "#use & opertions for the intersections\n",
    "print(myset1 & myset2)\n",
    "print(myset2 & myset1)\n",
    "\n",
    "print(myset1.intersection(myset2))\n",
    "print(myset2.intersection(myset1))\n"
   ]
  },
  {
   "cell_type": "code",
   "execution_count": 40,
   "id": "a9020d9a",
   "metadata": {},
   "outputs": [
    {
     "name": "stdout",
     "output_type": "stream",
     "text": [
      "{0, 1, 2, 3, 4, 5}\n",
      "{4, 5, 6, 7, 8, 9}\n",
      "{0, 1, 2, 3}\n",
      "{8, 9, 6, 7}\n",
      "{0, 1, 2, 3}\n",
      "{8, 9, 6, 7}\n"
     ]
    }
   ],
   "source": [
    "#set oeprations -set difference \n",
    "myset1 = {0,1,2,3,4,5}\n",
    "myset2 = {4,5,6,7,8,9}\n",
    "print(myset1)\n",
    "print(myset2)\n",
    "\n",
    "#use - oeprtor for set difference\n",
    "print(myset1 - myset2)\n",
    "print(myset2 -myset1)\n",
    "\n",
    "print(myset1.difference(myset2))\n",
    "print(myset2.difference(myset1))\n"
   ]
  },
  {
   "cell_type": "code",
   "execution_count": 47,
   "id": "4b5474da",
   "metadata": {},
   "outputs": [
    {
     "name": "stdout",
     "output_type": "stream",
     "text": [
      "{0, 1, 2, 3, 4, 5}\n",
      "{4, 5, 6, 7, 8, 9}\n",
      "\n",
      "\n",
      "{0, 1, 2, 3, 6, 7, 8, 9}\n",
      "{0, 1, 2, 3, 6, 7, 8, 9}\n",
      "{0, 1, 2, 3, 6, 7, 8, 9}\n",
      "{0, 1, 2, 3, 6, 7, 8, 9}\n"
     ]
    }
   ],
   "source": [
    "#set oeprations -symmetric differnce \n",
    "myset1 = {0,1,2,3,4,5}\n",
    "myset2 = {4,5,6,7,8,9}\n",
    "print(myset1)\n",
    "print(myset2)\n",
    "\n",
    "print(\"\\n\")\n",
    "\n",
    "# use ^ operators for symertic difference\n",
    "print(myset1 ^ myset2)\n",
    "print(myset2 ^ myset1)\n",
    "\n",
    "print(myset1.symmetric_difference(myset2))\n",
    "print(myset2.symmetric_difference(myset1))"
   ]
  },
  {
   "cell_type": "code",
   "execution_count": 53,
   "id": "15fdc179",
   "metadata": {},
   "outputs": [
    {
     "name": "stdout",
     "output_type": "stream",
     "text": [
      "True\n",
      "True\n",
      "\n",
      "\n",
      "False\n",
      "yes it is \n"
     ]
    }
   ],
   "source": [
    "#set memberships \n",
    "myset1 = {0,1,2,3,4,5}\n",
    "print( 2 in myset1 )\n",
    "print( 4 in myset1)\n",
    "\n",
    "print(\"\\n\")\n",
    "print(3 not in myset1)\n",
    "\n",
    "if 5 in myset1:\n",
    "    print(\"yes it is \")\n",
    "else:\n",
    "    print(\"no\")\n",
    "        "
   ]
  },
  {
   "cell_type": "code",
   "execution_count": 54,
   "id": "f5a77b5e",
   "metadata": {},
   "outputs": [
    {
     "name": "stdout",
     "output_type": "stream",
     "text": [
      "letter\n",
      "letter\n",
      "letter\n",
      "letter\n",
      "letter\n",
      "letter\n"
     ]
    }
   ],
   "source": [
    "#iterating throug a set \n",
    "for letter in set(\"welcome\"):\n",
    "    print(\"letter\")\n",
    "    "
   ]
  },
  {
   "cell_type": "code",
   "execution_count": 58,
   "id": "c14a05e7",
   "metadata": {},
   "outputs": [
    {
     "name": "stdout",
     "output_type": "stream",
     "text": [
      "7\n",
      "6\n",
      "0\n",
      "[0, 1, 2, 3, 4, 5, 6]\n"
     ]
    }
   ],
   "source": [
    "#built -in functions with set \n",
    "myset1 = {0,1,2,3,4,5,6}\n",
    "\n",
    "print(len(myset1))\n",
    "print(max(myset1))\n",
    "print(min(myset1))\n",
    "print(sorted(myset1))"
   ]
  },
  {
   "cell_type": "code",
   "execution_count": 66,
   "id": "695a9e37",
   "metadata": {},
   "outputs": [
    {
     "name": "stdout",
     "output_type": "stream",
     "text": [
      "frozenset({1, 2, 3, 4})\n",
      "frozenset({3, 4, 5, 6})\n",
      "\n",
      "\n",
      "frozenset({1, 2})\n",
      "frozenset({1, 2, 3, 4, 5, 6})\n",
      "frozenset({3, 4})\n",
      "frozenset({1, 2, 5, 6})\n"
     ]
    }
   ],
   "source": [
    "#python frosenset \n",
    "#frosenset is a new class that has the characterstics\n",
    "#of a set but its element cannot be changed once assigned \n",
    "#while tuple are immutable lists,,frozensets are immutable sets\n",
    "#initilized a and B\n",
    "\n",
    "myset1 = frozenset([1,2,3,4])\n",
    "myset2 = frozenset([3,4,5,6])\n",
    "print(myset1)\n",
    "print(myset2)\n",
    "print(\"\\n\")\n",
    "\n",
    "print(myset1.difference(myset2))\n",
    "print(myset1.union(myset2))\n",
    "print(myset1.intersection(myset2))\n",
    "print(myset1.symmetric_difference(myset2))"
   ]
  },
  {
   "cell_type": "code",
   "execution_count": null,
   "id": "a84655e5",
   "metadata": {},
   "outputs": [],
   "source": []
  }
 ],
 "metadata": {
  "kernelspec": {
   "display_name": "Python 3",
   "language": "python",
   "name": "python3"
  },
  "language_info": {
   "codemirror_mode": {
    "name": "ipython",
    "version": 3
   },
   "file_extension": ".py",
   "mimetype": "text/x-python",
   "name": "python",
   "nbconvert_exporter": "python",
   "pygments_lexer": "ipython3",
   "version": "3.8.8"
  }
 },
 "nbformat": 4,
 "nbformat_minor": 5
}
