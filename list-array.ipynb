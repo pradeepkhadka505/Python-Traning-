{
 "cells": [
  {
   "cell_type": "code",
   "execution_count": 1,
   "id": "0bb0bc3f",
   "metadata": {},
   "outputs": [
    {
     "name": "stdout",
     "output_type": "stream",
     "text": [
      "[10, 20, 30, 40, 50]\n"
     ]
    }
   ],
   "source": [
    "#defining and declaring and arrya or list\n",
    "\n",
    "\n",
    "list_1 = [10,20,30,40,50]\n",
    "print(list_1)"
   ]
  },
  {
   "cell_type": "code",
   "execution_count": 4,
   "id": "4c0cc005",
   "metadata": {},
   "outputs": [
    {
     "name": "stdout",
     "output_type": "stream",
     "text": [
      "10\n",
      "20\n",
      "30\n",
      "40\n",
      "50\n"
     ]
    }
   ],
   "source": [
    "#Accessing array elements\n",
    "print(list_1[0]) \n",
    "print(list_1[1])\n",
    "print(list_1[2])\n",
    "print(list_1[-2])  #negative indexing \n",
    "print(list_1[-1])  #it denote last negative index \n",
    "\n"
   ]
  },
  {
   "cell_type": "code",
   "execution_count": 10,
   "id": "46785307",
   "metadata": {},
   "outputs": [
    {
     "name": "stdout",
     "output_type": "stream",
     "text": [
      "['Coke', 'Apple', 'Google', 'Microsoft', 'Toyota']\n",
      "<class 'list'>\n",
      "5\n"
     ]
    }
   ],
   "source": [
    "#let's create new arrau  or list \n",
    "\n",
    "brands = [\"Coke\", \"Apple\", \"Google\", \"Microsoft\", \"Toyota\"]\n",
    "\n",
    "print(brands)\n",
    "print(type(brands))  # this will show the types of \n",
    "print(len(brands))  # this ill checks the length of the brand "
   ]
  },
  {
   "cell_type": "code",
   "execution_count": 13,
   "id": "94cf82fb",
   "metadata": {},
   "outputs": [
    {
     "name": "stdout",
     "output_type": "stream",
     "text": [
      "['Coke', 'Apple', 'Google', 'Microsoft', 'Toyota', 'Lenovo', 'Lenovo', 'Sony', 'Lenovo', 'Sony', 'Cisco']\n"
     ]
    }
   ],
   "source": [
    "#adding elements to an list or array used append()\n",
    "\n",
    "brands.append(\"Lenovo\")  \n",
    "brands .append(\"Sony\")\n",
    "brands.append(\"Cisco\")\n",
    "\n",
    "print(brands)"
   ]
  },
  {
   "cell_type": "code",
   "execution_count": 23,
   "id": "76e7acc4",
   "metadata": {},
   "outputs": [
    {
     "name": "stdout",
     "output_type": "stream",
     "text": [
      "['apple', 'banana', 'orange', 'papaya', 'mango', 'grapes']\n",
      "6\n",
      "<class 'list'>\n",
      "['banana', 'mango', 'grapes']\n"
     ]
    }
   ],
   "source": [
    "#removing elements fromt the list \n",
    "\n",
    "fruits = [\"apple\", \"banana\", \"orange\", \"papaya\", \"mango\", \"grapes\"]\n",
    "\n",
    "print(fruits)\n",
    "print(len(fruits))\n",
    "print(type(fruits))\n",
    "\n",
    "del fruits[0] \n",
    "fruits.remove('orange')\n",
    "fruits.pop(1)\n",
    "print(fruits)"
   ]
  },
  {
   "cell_type": "code",
   "execution_count": 30,
   "id": "ccc666c4",
   "metadata": {},
   "outputs": [
    {
     "name": "stdout",
     "output_type": "stream",
     "text": [
      "['apple', 'Guva', 'orange', 'papaya', 'mango', 'watermello']\n"
     ]
    }
   ],
   "source": [
    "#Modifying elements of an array using indexing\n",
    "\n",
    "fruit = [\"apple\", \"banana\", \"orange\", \"papaya\", \"mango\", \"grapes\"]\n",
    "\n",
    "fruit[1] = \"Guva\"\n",
    "fruit[-1] = \"watermello\"\n",
    "print(fruit)\n",
    "\n"
   ]
  },
  {
   "cell_type": "code",
   "execution_count": 31,
   "id": "a6029bae",
   "metadata": {},
   "outputs": [
    {
     "name": "stdout",
     "output_type": "stream",
     "text": [
      "[1, 2, 3, 4, 5, 6]\n"
     ]
    }
   ],
   "source": [
    "#concatenating two arrays using the + operater\n",
    "concat = [1, 2, 3]\n",
    "\n",
    "my_list = concat + [4, 5, 6]\n",
    "\n",
    "print (my_list)\n",
    "\n"
   ]
  },
  {
   "cell_type": "code",
   "execution_count": 32,
   "id": "1588bd14",
   "metadata": {},
   "outputs": [
    {
     "name": "stdout",
     "output_type": "stream",
     "text": [
      "[4, 5, 1, 2, 9, 3, 4]\n"
     ]
    }
   ],
   "source": [
    "arr1 = [4, 5, 1]\n",
    "arr2 = [2 , 9, 3 , 4]\n",
    "\n",
    "new_arr = arr1 + arr2\n",
    "\n",
    "print(new_arr)"
   ]
  },
  {
   "cell_type": "code",
   "execution_count": 34,
   "id": "e2cf3a10",
   "metadata": {},
   "outputs": [
    {
     "name": "stdout",
     "output_type": "stream",
     "text": [
      "['apple', 'banana', 'orange', 'papaya', 'mango', 'grapes']\n",
      "['banana', 'orange', 'papaya']\n",
      "['apple', 'banana', 'orange']\n",
      "['orange', 'papaya', 'mango', 'grapes']\n",
      "['papaya', 'mango']\n"
     ]
    }
   ],
   "source": [
    "fruits = [\"apple\", \"banana\", \"orange\", \"papaya\", \"mango\", \"grapes\"]\n",
    "\n",
    "print(fruits)\n",
    "print(fruits[1:4])\n",
    "print(fruits[ :3])\n",
    "print(fruits[-4: ])\n",
    "print(fruits[-3:-1])"
   ]
  },
  {
   "cell_type": "code",
   "execution_count": 37,
   "id": "5d2723ff",
   "metadata": {},
   "outputs": [
    {
     "name": "stdout",
     "output_type": "stream",
     "text": [
      "[[1, 2], [3, 4], [5, 6], [7, 8]]\n",
      "[1, 2]\n",
      "[7, 8]\n",
      "6\n",
      "7\n"
     ]
    }
   ],
   "source": [
    "#declearing and defining multidimentional array\n",
    "\n",
    "multd = [[1,2], [3,4], [5,6], [7,8]]\n",
    "\n",
    "print(multd)\n",
    "print(multd[0])\n",
    "print(multd[3])\n",
    "print(multd[2][1])\n",
    "print(multd[3][0])"
   ]
  },
  {
   "cell_type": "code",
   "execution_count": null,
   "id": "9417f9cb",
   "metadata": {},
   "outputs": [],
   "source": []
  }
 ],
 "metadata": {
  "kernelspec": {
   "display_name": "Python 3",
   "language": "python",
   "name": "python3"
  },
  "language_info": {
   "codemirror_mode": {
    "name": "ipython",
    "version": 3
   },
   "file_extension": ".py",
   "mimetype": "text/x-python",
   "name": "python",
   "nbconvert_exporter": "python",
   "pygments_lexer": "ipython3",
   "version": "3.8.8"
  }
 },
 "nbformat": 4,
 "nbformat_minor": 5
}
