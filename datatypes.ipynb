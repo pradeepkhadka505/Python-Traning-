{
 "cells": [
  {
   "cell_type": "code",
   "execution_count": 3,
   "id": "6c995966",
   "metadata": {},
   "outputs": [
    {
     "name": "stdout",
     "output_type": "stream",
     "text": [
      "Hello world\n",
      "Welcome!\n"
     ]
    }
   ],
   "source": [
    "print (\"Hello world\")\n",
    "print (\"Welcome!\")"
   ]
  },
  {
   "cell_type": "code",
   "execution_count": 4,
   "id": "dd7722dc",
   "metadata": {},
   "outputs": [
    {
     "name": "stdout",
     "output_type": "stream",
     "text": [
      "so the sum of 500 and 600 is 1100\n"
     ]
    }
   ],
   "source": [
    "#simple arthemetic \n",
    "a = 500\n",
    "b = 600\n",
    "\n",
    "c = a + b\n",
    "\n",
    "print (\"so the sum of {} and {} is {}\".format(a, b, c))\n"
   ]
  },
  {
   "cell_type": "code",
   "execution_count": 6,
   "id": "3d52fcd1",
   "metadata": {},
   "outputs": [
    {
     "name": "stdout",
     "output_type": "stream",
     "text": [
      "3.14\n"
     ]
    }
   ],
   "source": [
    "#declaring and assgingin value to constatnts\n",
    "PI = 3.14\n",
    "GRAVITY = 9.8\n",
    "\n",
    "print (PI)"
   ]
  },
  {
   "cell_type": "code",
   "execution_count": 8,
   "id": "79c45012",
   "metadata": {},
   "outputs": [
    {
     "name": "stdout",
     "output_type": "stream",
     "text": [
      "apple \n",
      "Aeroplane\n",
      "100\n",
      "1 2.3 Hello\n",
      "5 5 5\n"
     ]
    }
   ],
   "source": [
    "# declaring and assiginig values to a variables\n",
    "a = \"apple \"\n",
    "print(a)\n",
    "\n",
    "\n",
    "# chaning value of a variable\n",
    "a = \"Aeroplane\"\n",
    "print(a)\n",
    "\n",
    "a = 100\n",
    "print(a)\n",
    "\n",
    "#assiging multiple values to a variable\n",
    "\n",
    "b, c, d = 1,2.3,\"Hello\"\n",
    "\n",
    "print (b,c,d)\n",
    "\n",
    "#assigining some values to multiple variables \n",
    "\n",
    "b = c = d = 5\n",
    "print (b, c , d)"
   ]
  },
  {
   "cell_type": "code",
   "execution_count": null,
   "id": "844aee4b",
   "metadata": {},
   "outputs": [],
   "source": []
  }
 ],
 "metadata": {
  "kernelspec": {
   "display_name": "Python 3",
   "language": "python",
   "name": "python3"
  },
  "language_info": {
   "codemirror_mode": {
    "name": "ipython",
    "version": 3
   },
   "file_extension": ".py",
   "mimetype": "text/x-python",
   "name": "python",
   "nbconvert_exporter": "python",
   "pygments_lexer": "ipython3",
   "version": "3.8.8"
  }
 },
 "nbformat": 4,
 "nbformat_minor": 5
}
