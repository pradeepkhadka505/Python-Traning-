{
 "cells": [
  {
   "cell_type": "code",
   "execution_count": 2,
   "id": "53a86765",
   "metadata": {},
   "outputs": [
    {
     "name": "stdout",
     "output_type": "stream",
     "text": [
      "Hello world\n"
     ]
    }
   ],
   "source": [
    "print (\"Hello world\")\n",
    "print (\"Welcome!\")"
   ]
  },
  {
   "cell_type": "code",
   "execution_count": null,
   "id": "a370b014",
   "metadata": {},
   "outputs": [],
   "source": [
    "#simple arthemetic \n",
    "a = 500\n",
    "b = 600\n",
    "\n",
    "c = a + b\n",
    "\n",
    "print (\"so the s\")\n"
   ]
  }
 ],
 "metadata": {
  "kernelspec": {
   "display_name": "Python 3",
   "language": "python",
   "name": "python3"
  },
  "language_info": {
   "codemirror_mode": {
    "name": "ipython",
    "version": 3
   },
   "file_extension": ".py",
   "mimetype": "text/x-python",
   "name": "python",
   "nbconvert_exporter": "python",
   "pygments_lexer": "ipython3",
   "version": "3.8.8"
  }
 },
 "nbformat": 4,
 "nbformat_minor": 5
}
