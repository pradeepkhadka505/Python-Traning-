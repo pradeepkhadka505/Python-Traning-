{
 "cells": [
  {
   "cell_type": "markdown",
   "id": "d8b34154",
   "metadata": {},
   "source": [
    "#list comprehension"
   ]
  },
  {
   "cell_type": "code",
   "execution_count": null,
   "id": "32c65022",
   "metadata": {},
   "outputs": [],
   "source": [
    "#itterating a string through a for loop and adding the letter to a list\n",
    "\n",
    "h_letters = []\n",
    "\n",
    "for letter in 'human':\n",
    "    h_letters.append(letter)\n",
    "    print(h_letters)\n",
    "    \n",
    "print(h_letters)"
   ]
  },
  {
   "cell_type": "code",
   "execution_count": null,
   "id": "7fbab1a7",
   "metadata": {},
   "outputs": [],
   "source": [
    "#using comprehension\n",
    "h_letters = [ letter for letter in 'human']\n",
    "print(h_letters)"
   ]
  },
  {
   "cell_type": "code",
   "execution_count": null,
   "id": "ba241fcf",
   "metadata": {},
   "outputs": [],
   "source": [
    "#list comprehensions vs lambda funcions\n",
    "\n",
    "h_letters = list(map(lambda x :x, 'human'))\n",
    "print(h_letters)"
   ]
  },
  {
   "cell_type": "code",
   "execution_count": null,
   "id": "f90aae4a",
   "metadata": {},
   "outputs": [],
   "source": [
    "#if with list comprehension\n",
    "number_list = [x for x in range(20) if x % 2 == 0]\n",
    "print(number_list)\n",
    "\n"
   ]
  },
  {
   "cell_type": "code",
   "execution_count": null,
   "id": "eaa2a7bf",
   "metadata": {},
   "outputs": [],
   "source": [
    "#Nested if with lit comprehension\n",
    "num_list = [y for y in range(100) if y %2 ==0 if y %5 ==0]\n",
    "print(num_list)"
   ]
  },
  {
   "cell_type": "code",
   "execution_count": null,
   "id": "360c7b06",
   "metadata": {},
   "outputs": [],
   "source": [
    "#if...else with list comprehension\n",
    "obj = [\"Even\" if i%2 == 0 else \"odd\" for i in range(10)]\n",
    "print(obj)"
   ]
  },
  {
   "cell_type": "code",
   "execution_count": null,
   "id": "f65846ec",
   "metadata": {},
   "outputs": [],
   "source": [
    "#Trasposing a matrix usig list comprehensions\n",
    "matrix = [[1,2 ], [3,4],[5,6], [7,8]]\n",
    "transpose = [[row[i] for row in matrix] for i in range(2)]\n",
    "print(transpose)"
   ]
  },
  {
   "cell_type": "markdown",
   "id": "4d710b56",
   "metadata": {},
   "source": [
    "Python Recursion"
   ]
  },
  {
   "cell_type": "code",
   "execution_count": null,
   "id": "d06f10e2",
   "metadata": {},
   "outputs": [],
   "source": [
    "#recutsion\n",
    "\n",
    "def fact(n):\n",
    "    if n <= 1:\n",
    "        return 1\n",
    "    return n * fact(n-1)\n",
    "\n",
    "print(\"factiorial of 5 is \", fact(5))"
   ]
  },
  {
   "cell_type": "code",
   "execution_count": null,
   "id": "3541fed8",
   "metadata": {},
   "outputs": [],
   "source": [
    "print(1,2,3,4, sep=\"*\")"
   ]
  },
  {
   "cell_type": "code",
   "execution_count": null,
   "id": "c55686b7",
   "metadata": {},
   "outputs": [],
   "source": [
    "print(\" I Love {0} and {1}\".format(\"bread\", \"butter\"))"
   ]
  },
  {
   "cell_type": "code",
   "execution_count": null,
   "id": "884ec020",
   "metadata": {},
   "outputs": [],
   "source": [
    "#input \n",
    "x = input(\"Please enter any number:  \")\n",
    "print(x)"
   ]
  },
  {
   "cell_type": "code",
   "execution_count": null,
   "id": "8e19cf6b",
   "metadata": {},
   "outputs": [],
   "source": [
    "#improrting\n",
    "\n",
    "import math\n",
    "\n",
    "print(math.pow(int(x), 2))"
   ]
  },
  {
   "cell_type": "code",
   "execution_count": null,
   "id": "09090b79",
   "metadata": {},
   "outputs": [],
   "source": [
    "while True:\n",
    "    n = int(input(\"input an integer : \"))\n",
    "    if(n%2 == 0):\n",
    "        print(\"Even number...\")\n",
    "    else:\n",
    "        print(\"odd number...\")"
   ]
  },
  {
   "cell_type": "code",
   "execution_count": 3,
   "id": "a6c7ec52",
   "metadata": {},
   "outputs": [
    {
     "name": "stdout",
     "output_type": "stream",
     "text": [
      "List1->  [[1, 2, 3], [4, 5, 6], [7, 8, 9]]\n",
      "List2->  [[1, 2, 3], [4, 5, 6], [7, 8, 9]]\n",
      "id of list1 -> 2115928486016\n",
      "id of list2 -> 2115928486016\n"
     ]
    }
   ],
   "source": [
    "list1 = [[1,2,3],[4,5,6],[7,8,9]]\n",
    "\n",
    "list2 = list1\n",
    "\n",
    "print(\"List1-> \", list1)\n",
    "print(\"List2-> \", list2)\n",
    "print(\"id of list1 ->\", id(list1))\n",
    "print(\"id of list2 ->\", id(list2))"
   ]
  },
  {
   "cell_type": "code",
   "execution_count": 6,
   "id": "5f853ccd",
   "metadata": {},
   "outputs": [
    {
     "name": "stdout",
     "output_type": "stream",
     "text": [
      "old_list: [[1, 2, 3], [4, 5, 6], [7, 8, 9]]\n",
      "New_list: [[1, 2, 3], [4, 5, 6], [7, 8, 9]]\n",
      "Next_list: [[1, 2, 3], [4, 5, 6], [7, 8, 9]]\n"
     ]
    }
   ],
   "source": [
    "#creating a copy using shallow copy\n",
    "\n",
    "import copy\n",
    "\n",
    "old_list =[[1,2,3],[4,5,6], [7,8,9]]\n",
    "new_list = copy.copy(old_list)\n",
    "next_list = copy.deepcopy(old_list)\n",
    "\n",
    "print(\"old_list:\", old_list)\n",
    "print(\"New_list:\", new_list)\n",
    "print(\"Next_list:\", next_list)"
   ]
  },
  {
   "cell_type": "code",
   "execution_count": null,
   "id": "785de614",
   "metadata": {},
   "outputs": [],
   "source": []
  }
 ],
 "metadata": {
  "kernelspec": {
   "display_name": "Python 3",
   "language": "python",
   "name": "python3"
  },
  "language_info": {
   "codemirror_mode": {
    "name": "ipython",
    "version": 3
   },
   "file_extension": ".py",
   "mimetype": "text/x-python",
   "name": "python",
   "nbconvert_exporter": "python",
   "pygments_lexer": "ipython3",
   "version": "3.8.8"
  }
 },
 "nbformat": 4,
 "nbformat_minor": 5
}
