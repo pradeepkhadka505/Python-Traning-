{
 "cells": [
  {
   "cell_type": "markdown",
   "id": "1ca3447c",
   "metadata": {},
   "source": [
    "in Python, Dictionary is an unordred collection of items. while other compound data\n",
    "types have only value as an element, dictionary has a key; vlaue pair\n",
    "\n",
    "Ditionaries are optimized to retrieve values when the key is known\n"
   ]
  },
  {
   "cell_type": "code",
   "execution_count": 6,
   "id": "2b0ae7dc",
   "metadata": {},
   "outputs": [
    {
     "name": "stdout",
     "output_type": "stream",
     "text": [
      "{1: 'Hello', 2: 'HI', 3: 'hola'}\n",
      "Hello\n",
      "HI\n"
     ]
    }
   ],
   "source": [
    "#Accessing elements from a dictionary\n",
    "\n",
    "new_dict = {1:\"Hello\", 2:\"HI\", 3:\"hola\"}\n",
    "print(new_dict)\n",
    "print(new_dict[1])\n",
    "print(new_dict.get(2))"
   ]
  },
  {
   "cell_type": "code",
   "execution_count": 7,
   "id": "cc4886ce",
   "metadata": {},
   "outputs": [
    {
     "name": "stdout",
     "output_type": "stream",
     "text": [
      "{1: 'Hey', 2: 'HI', 3: 'hola'}\n"
     ]
    }
   ],
   "source": [
    "#update value\n",
    "new_dict[1] =\"Hey\"\n",
    "print(new_dict)"
   ]
  },
  {
   "cell_type": "code",
   "execution_count": 8,
   "id": "acccdfe9",
   "metadata": {},
   "outputs": [
    {
     "name": "stdout",
     "output_type": "stream",
     "text": [
      "{1: 'Hey', 2: 'HI', 3: 'hola', 4: 'Namestey'}\n"
     ]
    }
   ],
   "source": [
    "#adding new item in the dictionaries\n",
    "new_dict[4] = \"Namestey\"\n",
    "print(new_dict)"
   ]
  },
  {
   "cell_type": "code",
   "execution_count": 10,
   "id": "1f947975",
   "metadata": {},
   "outputs": [
    {
     "name": "stdout",
     "output_type": "stream",
     "text": [
      "{1: 2, 2: 4, 3: 9, 4: 16, 5: 25}\n"
     ]
    }
   ],
   "source": [
    "#creating a new dictionaries\n",
    "squares = {1:2, 2:4, 3:9, 4:16, 5:25}\n",
    "print(squares)"
   ]
  },
  {
   "cell_type": "code",
   "execution_count": 11,
   "id": "bd65312a",
   "metadata": {},
   "outputs": [
    {
     "name": "stdout",
     "output_type": "stream",
     "text": [
      "16\n",
      "{1: 2, 2: 4, 3: 9, 5: 25}\n"
     ]
    }
   ],
   "source": [
    "#remove a particular item\n",
    "print(squares.pop(4))\n",
    "print(squares)"
   ]
  },
  {
   "cell_type": "code",
   "execution_count": 13,
   "id": "ad9e7685",
   "metadata": {},
   "outputs": [
    {
     "name": "stdout",
     "output_type": "stream",
     "text": [
      "(3, 9)\n",
      "{1: 2, 2: 4}\n"
     ]
    }
   ],
   "source": [
    "#remove an arbitrary item\n",
    "print(squares.popitem())\n",
    "print(squares)"
   ]
  },
  {
   "cell_type": "code",
   "execution_count": 14,
   "id": "a416b9f4",
   "metadata": {},
   "outputs": [
    {
     "name": "stdout",
     "output_type": "stream",
     "text": [
      "{2: 4}\n"
     ]
    }
   ],
   "source": [
    "#delete a particular item \\\n",
    "del squares[1]\n",
    "print(squares)"
   ]
  },
  {
   "cell_type": "code",
   "execution_count": 15,
   "id": "f0a8da1b",
   "metadata": {},
   "outputs": [
    {
     "name": "stdout",
     "output_type": "stream",
     "text": [
      "{0: 0, 1: 1, 2: 4, 3: 9, 4: 16, 5: 25}\n"
     ]
    }
   ],
   "source": [
    "#creating a new dictionries using comprehension \n",
    "\n",
    "squares = {x: x*x for x in range(6)}\n",
    "print(squares)"
   ]
  },
  {
   "cell_type": "code",
   "execution_count": 18,
   "id": "3ede0f4d",
   "metadata": {},
   "outputs": [
    {
     "name": "stdout",
     "output_type": "stream",
     "text": [
      "True\n",
      "False\n",
      "False\n"
     ]
    }
   ],
   "source": [
    "#dictionaries membershios test\n",
    "squares = {1:1, 3:9, 5: 25, 7:49, 9:81}\n",
    "print(1 in squares)\n",
    "\n",
    "print(2 in squares)\n",
    "\n",
    "#membershipps test for key only not value\n",
    "\n",
    "print(49 in squares)"
   ]
  },
  {
   "cell_type": "code",
   "execution_count": 19,
   "id": "c31dba6c",
   "metadata": {},
   "outputs": [
    {
     "name": "stdout",
     "output_type": "stream",
     "text": [
      "1\n",
      "9\n",
      "25\n",
      "49\n",
      "81\n"
     ]
    }
   ],
   "source": [
    "#iterating through a dictionaries\n",
    "\n",
    "squares = {1:1, 3:9, 5:25, 7:49, 9:81}\n",
    "for i in squares:\n",
    "    print(squares[i])\n",
    "    "
   ]
  },
  {
   "cell_type": "code",
   "execution_count": 21,
   "id": "d51eb6ce",
   "metadata": {},
   "outputs": [
    {
     "name": "stdout",
     "output_type": "stream",
     "text": [
      "5\n",
      "[1, 3, 5, 7, 9]\n"
     ]
    }
   ],
   "source": [
    "#built -in functins in a dictionaries \n",
    "\n",
    "squares = {1:1, 3:9, 5:25, 7:49, 9:81}\n",
    "\n",
    "print(len(squares))  #prints the length of the dictionaries\n",
    "print(sorted(squares))  #prints the dictionries in sorted order"
   ]
  },
  {
   "cell_type": "code",
   "execution_count": 23,
   "id": "336af018",
   "metadata": {},
   "outputs": [
    {
     "name": "stdout",
     "output_type": "stream",
     "text": [
      "dict_keys(['brand', 'model', 'year'])\n",
      "dict_keys(['brand', 'model', 'year', 'color'])\n"
     ]
    }
   ],
   "source": [
    "car = {\n",
    "    \"brand\" : \"Ford\",\n",
    "    \"model\" : \"tatanic\",\n",
    "    \"year\"  : 1994\n",
    "    \n",
    "}\n",
    "\n",
    "x = car.keys()\n",
    "print(x)\n",
    "\n",
    "car[\"color\"] = \"silver\"\n",
    "print(x)"
   ]
  },
  {
   "cell_type": "code",
   "execution_count": 28,
   "id": "2bdfda2a",
   "metadata": {},
   "outputs": [
    {
     "name": "stdout",
     "output_type": "stream",
     "text": [
      "{'name': 'mango', 'color': 'yellow ', 'price': 300, 'season': 'summer'}\n",
      "{'name': 'mango', 'color': 'green', 'price': 300, 'season': 'summer'}\n",
      "{'name': 'mango', 'color': 'green', 'price': 300}\n"
     ]
    }
   ],
   "source": [
    "\n",
    "fruits = {\n",
    "    \"name\" : \"mango\",\n",
    "    \"color\" : \"yellow \",\n",
    "    \"price\" : 300,\n",
    "    \"season\" :\"summer\"\n",
    "}\n",
    "print(fruits)\n",
    "\n",
    "#change color\n",
    "\n",
    "fruits[\"color\"] = \"green\"\n",
    "\n",
    "print(fruits)\n",
    "\n",
    "#removing item from the list\n",
    "\n",
    "del fruits[\"season\"]\n",
    "print(fruits)"
   ]
  },
  {
   "cell_type": "code",
   "execution_count": 30,
   "id": "e15e3173",
   "metadata": {},
   "outputs": [
    {
     "name": "stdout",
     "output_type": "stream",
     "text": [
      "{'name': 'mango', 'color': 'green', 'price': 300}\n"
     ]
    }
   ],
   "source": [
    "new_dict = fruits.copy()\n",
    "print(new_dict)"
   ]
  },
  {
   "cell_type": "code",
   "execution_count": 35,
   "id": "4d4f773f",
   "metadata": {},
   "outputs": [
    {
     "name": "stdout",
     "output_type": "stream",
     "text": [
      "{'child1': {'name': 'babin', 'year': 2022}, 'child2': {'name': 'arjun', 'year': 2023}, 'child3': {'name': 'sahara', 'year': 2021}, 'child4': {'name': 'nilam', 'year': 2018}}\n",
      "4\n"
     ]
    },
    {
     "ename": "NameError",
     "evalue": "name 'child3' is not defined",
     "output_type": "error",
     "traceback": [
      "\u001b[1;31m---------------------------------------------------------------------------\u001b[0m",
      "\u001b[1;31mNameError\u001b[0m                                 Traceback (most recent call last)",
      "\u001b[1;32m<ipython-input-35-823c582d55be>\u001b[0m in \u001b[0;36m<module>\u001b[1;34m\u001b[0m\n\u001b[0;32m     26\u001b[0m \u001b[1;31m#accessing nested item from the nested dict\u001b[0m\u001b[1;33m\u001b[0m\u001b[1;33m\u001b[0m\u001b[1;33m\u001b[0m\u001b[0m\n\u001b[0;32m     27\u001b[0m \u001b[1;33m\u001b[0m\u001b[0m\n\u001b[1;32m---> 28\u001b[1;33m \u001b[0mprint\u001b[0m\u001b[1;33m(\u001b[0m\u001b[0mchild3\u001b[0m\u001b[1;33m[\u001b[0m\u001b[1;34m'name'\u001b[0m\u001b[1;33m]\u001b[0m\u001b[1;33m)\u001b[0m\u001b[1;33m\u001b[0m\u001b[1;33m\u001b[0m\u001b[0m\n\u001b[0m",
      "\u001b[1;31mNameError\u001b[0m: name 'child3' is not defined"
     ]
    }
   ],
   "source": [
    "#Nested dictionaries\n",
    "\n",
    "myfamily = {\n",
    "    \"child1\" : {\n",
    "        \"name\" :\"babin\",\n",
    "        \"year\" :2022\n",
    "    },\n",
    "    \"child2\" :{\n",
    "        'name' : \"arjun\",\n",
    "        \"year\" : 2023 \n",
    "    },\n",
    "     \"child3\" : {\n",
    "        \"name\" :\"sahara\",\n",
    "        \"year\" :2021\n",
    "    },\n",
    "    \"child4\" :{\n",
    "        'name' : \"nilam\",\n",
    "        \"year\" : 2018 \n",
    "    }\n",
    "}\n",
    "\n",
    "\n",
    "print(myfamily)\n",
    "print(len(myfamily))\n",
    "\n",
    "#accessing nested item from the nested dict\n",
    "\n",
    "print(child3['name'])\n"
   ]
  },
  {
   "cell_type": "code",
   "execution_count": null,
   "id": "946553eb",
   "metadata": {},
   "outputs": [],
   "source": []
  }
 ],
 "metadata": {
  "kernelspec": {
   "display_name": "Python 3",
   "language": "python",
   "name": "python3"
  },
  "language_info": {
   "codemirror_mode": {
    "name": "ipython",
    "version": 3
   },
   "file_extension": ".py",
   "mimetype": "text/x-python",
   "name": "python",
   "nbconvert_exporter": "python",
   "pygments_lexer": "ipython3",
   "version": "3.8.8"
  }
 },
 "nbformat": 4,
 "nbformat_minor": 5
}
