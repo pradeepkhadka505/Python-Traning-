{
 "cells": [
  {
   "cell_type": "markdown",
   "id": "9f6597aa",
   "metadata": {},
   "source": [
    "in Python, Dictionary is an unordred collection of items. while other compound data\n",
    "types have only value as an element, dictionary has a key; vlaue pair\n",
    "\n",
    "Ditionaries are optimized to retrieve values when the key is known\n"
   ]
  },
  {
   "cell_type": "code",
   "execution_count": 6,
   "id": "d61c7133",
   "metadata": {},
   "outputs": [
    {
     "name": "stdout",
     "output_type": "stream",
     "text": [
      "{1: 'Hello', 2: 'HI', 3: 'hola'}\n",
      "Hello\n",
      "HI\n"
     ]
    }
   ],
   "source": [
    "#Accessing elements from a dictionary\n",
    "\n",
    "new_dict = {1:\"Hello\", 2:\"HI\", 3:\"hola\"}\n",
    "print(new_dict)\n",
    "print(new_dict[1])\n",
    "print(new_dict.get(2))"
   ]
  },
  {
   "cell_type": "code",
   "execution_count": 7,
   "id": "0b70eb69",
   "metadata": {},
   "outputs": [
    {
     "name": "stdout",
     "output_type": "stream",
     "text": [
      "{1: 'Hey', 2: 'HI', 3: 'hola'}\n"
     ]
    }
   ],
   "source": [
    "#update value\n",
    "new_dict[1] =\"Hey\"\n",
    "print(new_dict)"
   ]
  },
  {
   "cell_type": "code",
   "execution_count": 8,
   "id": "28cfca4b",
   "metadata": {},
   "outputs": [
    {
     "name": "stdout",
     "output_type": "stream",
     "text": [
      "{1: 'Hey', 2: 'HI', 3: 'hola', 4: 'Namestey'}\n"
     ]
    }
   ],
   "source": [
    "#adding new item in the dictionaries\n",
    "new_dict[4] = \"Namestey\"\n",
    "print(new_dict)"
   ]
  },
  {
   "cell_type": "code",
   "execution_count": 10,
   "id": "068a57e1",
   "metadata": {},
   "outputs": [
    {
     "name": "stdout",
     "output_type": "stream",
     "text": [
      "{1: 2, 2: 4, 3: 9, 4: 16, 5: 25}\n"
     ]
    }
   ],
   "source": [
    "#creating a new dictionaries\n",
    "squares = {1:2, 2:4, 3:9, 4:16, 5:25}\n",
    "print(squares)"
   ]
  },
  {
   "cell_type": "code",
   "execution_count": 11,
   "id": "aac442b5",
   "metadata": {},
   "outputs": [
    {
     "name": "stdout",
     "output_type": "stream",
     "text": [
      "16\n",
      "{1: 2, 2: 4, 3: 9, 5: 25}\n"
     ]
    }
   ],
   "source": [
    "#remove a particular item\n",
    "print(squares.pop(4))\n",
    "print(squares)"
   ]
  },
  {
   "cell_type": "code",
   "execution_count": 13,
   "id": "ae6fbb17",
   "metadata": {},
   "outputs": [
    {
     "name": "stdout",
     "output_type": "stream",
     "text": [
      "(3, 9)\n",
      "{1: 2, 2: 4}\n"
     ]
    }
   ],
   "source": [
    "#remove an arbitrary item\n",
    "print(squares.popitem())\n",
    "print(squares)"
   ]
  },
  {
   "cell_type": "code",
   "execution_count": 14,
   "id": "40d2e255",
   "metadata": {},
   "outputs": [
    {
     "name": "stdout",
     "output_type": "stream",
     "text": [
      "{2: 4}\n"
     ]
    }
   ],
   "source": [
    "#delete a particular item \\\n",
    "del squares[1]\n",
    "print(squares)"
   ]
  },
  {
   "cell_type": "code",
   "execution_count": 15,
   "id": "54a6159e",
   "metadata": {},
   "outputs": [
    {
     "name": "stdout",
     "output_type": "stream",
     "text": [
      "{0: 0, 1: 1, 2: 4, 3: 9, 4: 16, 5: 25}\n"
     ]
    }
   ],
   "source": [
    "#creating a new dictionries using comprehension \n",
    "\n",
    "squares = {x: x*x for x in range(6)}\n",
    "print(squares)"
   ]
  },
  {
   "cell_type": "code",
   "execution_count": 18,
   "id": "d277ad72",
   "metadata": {},
   "outputs": [
    {
     "name": "stdout",
     "output_type": "stream",
     "text": [
      "True\n",
      "False\n",
      "False\n"
     ]
    }
   ],
   "source": [
    "#dictionaries membershios test\n",
    "squares = {1:1, 3:9, 5: 25, 7:49, 9:81}\n",
    "print(1 in squares)\n",
    "\n",
    "print(2 in squares)\n",
    "\n",
    "#membershipps test for key only not value\n",
    "\n",
    "print(49 in squares)"
   ]
  },
  {
   "cell_type": "code",
   "execution_count": 19,
   "id": "3cbd896c",
   "metadata": {},
   "outputs": [
    {
     "name": "stdout",
     "output_type": "stream",
     "text": [
      "1\n",
      "9\n",
      "25\n",
      "49\n",
      "81\n"
     ]
    }
   ],
   "source": [
    "#iterating through a dictionaries\n",
    "\n",
    "squares = {1:1, 3:9, 5:25, 7:49, 9:81}\n",
    "for i in squares:\n",
    "    print(squares[i])\n",
    "    "
   ]
  },
  {
   "cell_type": "code",
   "execution_count": 21,
   "id": "841522b7",
   "metadata": {},
   "outputs": [
    {
     "name": "stdout",
     "output_type": "stream",
     "text": [
      "5\n",
      "[1, 3, 5, 7, 9]\n"
     ]
    }
   ],
   "source": [
    "#built -in functins in a dictionaries \n",
    "\n",
    "squares = {1:1, 3:9, 5:25, 7:49, 9:81}\n",
    "\n",
    "print(len(squares))  #prints the length of the dictionaries\n",
    "print(sorted(squares))  #prints the dictionries in sorted order"
   ]
  },
  {
   "cell_type": "code",
   "execution_count": null,
   "id": "f17a2bec",
   "metadata": {},
   "outputs": [],
   "source": []
  }
 ],
 "metadata": {
  "kernelspec": {
   "display_name": "Python 3",
   "language": "python",
   "name": "python3"
  },
  "language_info": {
   "codemirror_mode": {
    "name": "ipython",
    "version": 3
   },
   "file_extension": ".py",
   "mimetype": "text/x-python",
   "name": "python",
   "nbconvert_exporter": "python",
   "pygments_lexer": "ipython3",
   "version": "3.8.8"
  }
 },
 "nbformat": 4,
 "nbformat_minor": 5
}
