{
 "cells": [
  {
   "cell_type": "code",
   "execution_count": 1,
   "id": "76c2250a",
   "metadata": {},
   "outputs": [
    {
     "name": "stdout",
     "output_type": "stream",
     "text": [
      "3\n",
      "2\n",
      "1\n"
     ]
    }
   ],
   "source": [
    "#using while loop \n",
    "i = 3\n",
    "while i > 0:\n",
    "    print(i)\n",
    "    i -=1"
   ]
  },
  {
   "cell_type": "code",
   "execution_count": 2,
   "id": "f5fbaaf1",
   "metadata": {},
   "outputs": [
    {
     "name": "stdout",
     "output_type": "stream",
     "text": [
      "5\n",
      "4\n",
      "3\n",
      "2\n",
      "1\n"
     ]
    }
   ],
   "source": [
    "a = 5\n",
    "while a > 0:\n",
    "    print(a)\n",
    "    a -= 1"
   ]
  },
  {
   "cell_type": "code",
   "execution_count": 3,
   "id": "e6d6e1d2",
   "metadata": {},
   "outputs": [
    {
     "name": "stdout",
     "output_type": "stream",
     "text": [
      "0\n",
      "1\n",
      "2\n",
      "3\n",
      "4\n",
      "5\n",
      "6\n",
      "7\n",
      "8\n",
      "9\n",
      "displayed successfully\n"
     ]
    }
   ],
   "source": [
    "while i < 10:\n",
    "    print(i)\n",
    "    i +=1\n",
    "else:\n",
    "    print(\"displayed successfully\")"
   ]
  },
  {
   "cell_type": "code",
   "execution_count": 4,
   "id": "d456d300",
   "metadata": {},
   "outputs": [
    {
     "name": "stdout",
     "output_type": "stream",
     "text": [
      "Please enter the number of layers...11\n",
      "..........*\n",
      ".........***\n",
      "........*****\n",
      ".......*******\n",
      "......*********\n",
      ".....***********\n",
      "....*************\n",
      "...***************\n",
      "..*****************\n",
      ".*******************\n",
      "*********************\n"
     ]
    }
   ],
   "source": [
    "n = int(input(\"Please enter the number of layers...\"))\n",
    "i = 1\n",
    "while i <= n:\n",
    "    j = 1\n",
    "    while j <= n-i:\n",
    "        print(\".\", end=\"\")\n",
    "        j= j +1\n",
    "        \n",
    "    j = 1\n",
    "    while j <= 2*i - 1:\n",
    "        print(\"*\", end=\"\")\n",
    "        j= j +1\n",
    "    print()\n",
    "    i = i +1"
   ]
  },
  {
   "cell_type": "code",
   "execution_count": 5,
   "id": "11693cfc",
   "metadata": {},
   "outputs": [
    {
     "name": "stdout",
     "output_type": "stream",
     "text": [
      "Please enter the odd numbers....11\n",
      "***********\n",
      ".*********\n",
      "..*******\n",
      "...*****\n",
      "....***\n",
      ".....*\n",
      "....***\n",
      "...*****\n",
      "..*******\n",
      ".*********\n",
      "***********\n"
     ]
    }
   ],
   "source": [
    "n = int(input(\"Please enter the odd numbers....\"))\n",
    "m = (n + 1)/2\n",
    "i = 1\n",
    "while i <= n:\n",
    "    if(i >m ):\n",
    "        b = n -i\n",
    "        s = 2 * (i-m) +1\n",
    "    else:\n",
    "        b = i-1\n",
    "        s = 2 *(m-i)+1\n",
    "        \n",
    "    j = 1\n",
    "    while j <=b:\n",
    "        print(\".\", end=\"\")\n",
    "        j = j +1\n",
    "    j =1\n",
    "    while j <= s:\n",
    "        print(\"*\", end=\"\")\n",
    "        j = j +1\n",
    "    print()\n",
    "    i = i +1"
   ]
  },
  {
   "cell_type": "code",
   "execution_count": 6,
   "id": "808467ed",
   "metadata": {},
   "outputs": [
    {
     "name": "stdout",
     "output_type": "stream",
     "text": [
      "please enter the age of the person...11\n",
      "Go to 6 grade\n"
     ]
    }
   ],
   "source": [
    "age = int(input(\"please enter the age of the person...\"))\n",
    "if age < 5:\n",
    "    print(\"Too young\")\n",
    "elif age == 5:\n",
    "    print(\"Kindergaten\")\n",
    "elif ((age > 5) and (age <= 17)):\n",
    "    grade = age -5\n",
    "    print(\"Go to {} grade\".format(grade))\n",
    "else:\n",
    "    print(\"Go to college\")"
   ]
  },
  {
   "cell_type": "code",
   "execution_count": 7,
   "id": "936f2313",
   "metadata": {},
   "outputs": [],
   "source": [
    "#Nested if \n",
    "#in this program, we input a number\n",
    "#check if the number is positive or \n",
    "#negative or zero and display\n",
    "#an appropirate message\n",
    "#this time we use nested if "
   ]
  },
  {
   "cell_type": "code",
   "execution_count": null,
   "id": "98f51050",
   "metadata": {},
   "outputs": [],
   "source": []
  }
 ],
 "metadata": {
  "kernelspec": {
   "display_name": "Python 3",
   "language": "python",
   "name": "python3"
  },
  "language_info": {
   "codemirror_mode": {
    "name": "ipython",
    "version": 3
   },
   "file_extension": ".py",
   "mimetype": "text/x-python",
   "name": "python",
   "nbconvert_exporter": "python",
   "pygments_lexer": "ipython3",
   "version": "3.8.8"
  }
 },
 "nbformat": 4,
 "nbformat_minor": 5
}
