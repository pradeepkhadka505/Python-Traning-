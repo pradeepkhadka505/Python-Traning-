{
 "cells": [
  {
   "cell_type": "code",
   "execution_count": 1,
   "id": "469ff902",
   "metadata": {},
   "outputs": [
    {
     "name": "stdout",
     "output_type": "stream",
     "text": [
      "3\n",
      "2\n",
      "1\n"
     ]
    }
   ],
   "source": [
    "#using while loop \n",
    "i = 3\n",
    "while i > 0:\n",
    "    print(i)\n",
    "    i -=1"
   ]
  },
  {
   "cell_type": "code",
   "execution_count": 2,
   "id": "00909718",
   "metadata": {},
   "outputs": [
    {
     "name": "stdout",
     "output_type": "stream",
     "text": [
      "5\n",
      "4\n",
      "3\n",
      "2\n",
      "1\n"
     ]
    }
   ],
   "source": [
    "a = 5\n",
    "while a > 0:\n",
    "    print(a)\n",
    "    a -= 1"
   ]
  },
  {
   "cell_type": "code",
   "execution_count": 3,
   "id": "db2bce2d",
   "metadata": {},
   "outputs": [
    {
     "name": "stdout",
     "output_type": "stream",
     "text": [
      "0\n",
      "1\n",
      "2\n",
      "3\n",
      "4\n",
      "5\n",
      "6\n",
      "7\n",
      "8\n",
      "9\n",
      "displayed successfully\n"
     ]
    }
   ],
   "source": [
    "while i < 10:\n",
    "    print(i)\n",
    "    i +=1\n",
    "else:\n",
    "    print(\"displayed successfully\")"
   ]
  },
  {
   "cell_type": "code",
   "execution_count": 4,
   "id": "750381c3",
   "metadata": {},
   "outputs": [
    {
     "name": "stdout",
     "output_type": "stream",
     "text": [
      "Please enter the number of layers...11\n",
      "..........*\n",
      ".........***\n",
      "........*****\n",
      ".......*******\n",
      "......*********\n",
      ".....***********\n",
      "....*************\n",
      "...***************\n",
      "..*****************\n",
      ".*******************\n",
      "*********************\n"
     ]
    }
   ],
   "source": [
    "n = int(input(\"Please enter the number of layers...\"))\n",
    "i = 1\n",
    "while i <= n:\n",
    "    j = 1\n",
    "    while j <= n-i:\n",
    "        print(\".\", end=\"\")\n",
    "        j= j +1\n",
    "        \n",
    "    j = 1\n",
    "    while j <= 2*i - 1:\n",
    "        print(\"*\", end=\"\")\n",
    "        j= j +1\n",
    "    print()\n",
    "    i = i +1"
   ]
  },
  {
   "cell_type": "code",
   "execution_count": 5,
   "id": "268d4aaa",
   "metadata": {},
   "outputs": [
    {
     "name": "stdout",
     "output_type": "stream",
     "text": [
      "Please enter the odd numbers....11\n",
      "***********\n",
      ".*********\n",
      "..*******\n",
      "...*****\n",
      "....***\n",
      ".....*\n",
      "....***\n",
      "...*****\n",
      "..*******\n",
      ".*********\n",
      "***********\n"
     ]
    }
   ],
   "source": [
    "n = int(input(\"Please enter the odd numbers....\"))\n",
    "m = (n + 1)/2\n",
    "i = 1\n",
    "while i <= n:\n",
    "    if(i >m ):\n",
    "        b = n -i\n",
    "        s = 2 * (i-m) +1\n",
    "    else:\n",
    "        b = i-1\n",
    "        s = 2 *(m-i)+1\n",
    "        \n",
    "    j = 1\n",
    "    while j <=b:\n",
    "        print(\".\", end=\"\")\n",
    "        j = j +1\n",
    "    j =1\n",
    "    while j <= s:\n",
    "        print(\"*\", end=\"\")\n",
    "        j = j +1\n",
    "    print()\n",
    "    i = i +1"
   ]
  },
  {
   "cell_type": "code",
   "execution_count": 6,
   "id": "11780b53",
   "metadata": {},
   "outputs": [
    {
     "name": "stdout",
     "output_type": "stream",
     "text": [
      "please enter the age of the person...11\n",
      "Go to 6 grade\n"
     ]
    }
   ],
   "source": [
    "age = int(input(\"please enter the age of the person...\"))\n",
    "if age < 5:\n",
    "    print(\"Too young\")\n",
    "elif age == 5:\n",
    "    print(\"Kindergaten\")\n",
    "elif ((age > 5) and (age <= 17)):\n",
    "    grade = age -5\n",
    "    print(\"Go to {} grade\".format(grade))\n",
    "else:\n",
    "    print(\"Go to college\")"
   ]
  },
  {
   "cell_type": "code",
   "execution_count": 7,
   "id": "bbbd6116",
   "metadata": {},
   "outputs": [],
   "source": [
    "#Nested if \n",
    "#in this program, we input a number\n",
    "#check if the number is positive or \n",
    "#negative or zero and display\n",
    "#an appropirate message\n",
    "#this time we use nested if "
   ]
  },
  {
   "cell_type": "code",
   "execution_count": 8,
   "id": "e2689f86",
   "metadata": {},
   "outputs": [
    {
     "name": "stdout",
     "output_type": "stream",
     "text": [
      "Enter a number ...1000\n",
      "Positive number\n"
     ]
    }
   ],
   "source": [
    "num = float(input(\"Enter a number ...\"))\n",
    "if num >= 0:\n",
    "    if num == 0:\n",
    "        print(\"Zero\")\n",
    "    else:\n",
    "        print(\"Positive number\")\n",
    "else:\n",
    "    print(\"Negative number\")"
   ]
  },
  {
   "cell_type": "code",
   "execution_count": 9,
   "id": "71ee0406",
   "metadata": {},
   "outputs": [
    {
     "name": "stdout",
     "output_type": "stream",
     "text": [
      "[['Roy', 80, 75, 85, 90, 95], ['Jhon', 75, 80, 75, 85, 100], ['dave', 80, 80, 80, 90, 95]]\n",
      "<class 'list'>\n",
      "[['Roy', 80, 75, 85, 90, 95], ['Jhon', 75, 80, 75], ['dave', 80, 80, 80, 90, 95]]\n"
     ]
    }
   ],
   "source": [
    "# a i 2 -D matrix with integers\n",
    "a = [['Roy', 80, 75,85,90,95],\n",
    "     ['Jhon', 75, 80,75,85,100],\n",
    "     ['dave',80,80,80,90,95]]\n",
    "\n",
    "#b is a nested list but not a matrix\n",
    "\n",
    "b= [['Roy', 80, 75,85,90,95],\n",
    "     ['Jhon', 75, 80,75],\n",
    "     ['dave',80,80,80,90,95]]\n",
    "\n",
    "print(a)\n",
    "print(type(a))\n",
    "print(b)"
   ]
  },
  {
   "cell_type": "code",
   "execution_count": 10,
   "id": "96e0e3ed",
   "metadata": {},
   "outputs": [
    {
     "name": "stdout",
     "output_type": "stream",
     "text": [
      "[0, 0, 0]\n",
      "[[0, 0, 0, 0], [0, 0, 0, 0], [0, 0, 0, 0]]\n"
     ]
    }
   ],
   "source": [
    "#creating a dynamic matrix using for loop in python\n",
    "\n",
    "n = 3\n",
    "m = 4\n",
    "\n",
    "a = [0] * n\n",
    "print(a)\n",
    "\n",
    "for i in range(n):\n",
    "    a[i] = [0] * m\n",
    "print(a)"
   ]
  },
  {
   "cell_type": "code",
   "execution_count": 11,
   "id": "d1b00767",
   "metadata": {},
   "outputs": [
    {
     "name": "stdout",
     "output_type": "stream",
     "text": [
      "[[0, 0, 0, 0], [0, 0, 0, 0], [0, 0, 0, 0]]\n",
      "[0, 0, 0, 0]\n",
      "0\n",
      "0\n"
     ]
    }
   ],
   "source": [
    "#accessing elements from a matrix\n",
    "\n",
    "print(a)\n",
    "print(a[0])\n",
    "print(a[0][1])\n",
    "print(a[1][2])"
   ]
  },
  {
   "cell_type": "code",
   "execution_count": 12,
   "id": "b7698e80",
   "metadata": {},
   "outputs": [
    {
     "name": "stdout",
     "output_type": "stream",
     "text": [
      "[[0, 0, 0, 0], [0, 0, 0, 0], [0, 0, 0, 0]]\n",
      "[0, 0, 0, 0]\n",
      "0\n",
      "0\n"
     ]
    }
   ],
   "source": [
    "#-negative index\n",
    "print(a)\n",
    "print(a[0])\n",
    "print(a[-1][-2])\n",
    "print(a[-2][-3])"
   ]
  },
  {
   "cell_type": "code",
   "execution_count": 13,
   "id": "594afa56",
   "metadata": {},
   "outputs": [
    {
     "name": "stdout",
     "output_type": "stream",
     "text": [
      "[[0, 0, 0, 0], [0, 0, 0, 0], [0, 0, 0, 0]]\n",
      "[0, 0, 0, 0]\n",
      "[0, 75, 0, 0]\n",
      "[[0, 75, 0, 0], [0, 0, 0, 0], [0, 0, 0, 0]]\n",
      "[[0, 75, 0, 0], [0, 0, 0, 0], ['sam', 85, 79, 88, 97, 99]]\n"
     ]
    }
   ],
   "source": [
    "#change elements of a matrix in python\n",
    "print(a)\n",
    "b = a[0]\n",
    "print(b)\n",
    "\n",
    "b[1] = 75\n",
    "print(b)\n",
    "print(a)\n",
    "\n",
    "a[2] = ['sam',85,79,88,97,99 ]\n",
    "print(a)"
   ]
  },
  {
   "cell_type": "code",
   "execution_count": null,
   "id": "6e94af0e",
   "metadata": {},
   "outputs": [],
   "source": []
  }
 ],
 "metadata": {
  "kernelspec": {
   "display_name": "Python 3",
   "language": "python",
   "name": "python3"
  },
  "language_info": {
   "codemirror_mode": {
    "name": "ipython",
    "version": 3
   },
   "file_extension": ".py",
   "mimetype": "text/x-python",
   "name": "python",
   "nbconvert_exporter": "python",
   "pygments_lexer": "ipython3",
   "version": "3.8.8"
  }
 },
 "nbformat": 4,
 "nbformat_minor": 5
}
