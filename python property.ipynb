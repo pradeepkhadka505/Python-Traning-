{
 "cells": [
  {
   "cell_type": "code",
   "execution_count": 15,
   "id": "5947e943",
   "metadata": {},
   "outputs": [
    {
     "name": "stdout",
     "output_type": "stream",
     "text": [
      "Assiginig temperature value\n",
      "Getting temperature value\n",
      "5\n",
      "Setting temerature value\n",
      "Getting temperature value\n",
      "100\n"
     ]
    }
   ],
   "source": [
    "#Demonstrating the use of the property\n",
    "\n",
    "class Temp_Celsius:\n",
    "    def __init__(self, temperature = 0):\n",
    "        print(\"Assiginig temperature value\")\n",
    "        self._temperature = temperature\n",
    "\n",
    "    def convert_to_fahrenheit(self):\n",
    "        return (self._temperature * 1.8) +32\n",
    "    \n",
    "    def get_temperature(self):\n",
    "        print(\"Getting temperature value\")\n",
    "        return self._temperature\n",
    "    \n",
    "    def set_temperature(self, value):\n",
    "        if value < -273:\n",
    "            raise valueError(\"Temperature below -273 is not possible\")\n",
    "        print(\"Setting temerature value\")\n",
    "        self._temperature = value\n",
    "            \n",
    "#property( is a built in functions, ccreate and returns a property object)\n",
    "\n",
    "#     #make epty property\n",
    "#     temperature = property()\n",
    "\n",
    "#     #assign fget\n",
    "#     temperature = temperature.getter(get_temperature)\n",
    "\n",
    "#     #assign fset\n",
    "#     temperature = temperature.setter(set_temperature)\n",
    "\n",
    "c = Temp_Celsius(5)\n",
    "print(c.temperature)\n",
    "\n",
    "c.temperature = 100\n",
    "print(c.temperature)"
   ]
  },
  {
   "cell_type": "code",
   "execution_count": 18,
   "id": "65baeffc",
   "metadata": {},
   "outputs": [
    {
     "name": "stdout",
     "output_type": "stream",
     "text": [
      "Assiginig temperature value\n",
      "Getting temperature value\n",
      "5\n",
      "Setting temerature value\n",
      "Getting temperature value\n",
      "100\n"
     ]
    }
   ],
   "source": [
    "class Temp_Celsius:\n",
    "    def __init__(self, temperature = 0):\n",
    "        print(\"Assiginig temperature value\")\n",
    "        self._temperature = temperature\n",
    "\n",
    "    def convert_to_fahrenheit(self):\n",
    "        return (self._temperature * 1.8) +32\n",
    "    \n",
    "    @property\n",
    "    def temperature(self):\n",
    "        print(\"Getting temperature value\")\n",
    "        return self._temperature\n",
    "    \n",
    "    @temperature.setter\n",
    "    def temperature(self, value):\n",
    "        if value < -273:\n",
    "            raise valueError(\"Temperature below -273 is not possible\")\n",
    "        print(\"Setting temerature value\")\n",
    "        self._temperature = value\n",
    "\n",
    "c = Temp_Celsius(5)\n",
    "print(c.temperature)\n",
    "\n",
    "c.temperature = 100\n",
    "print(c.temperature)"
   ]
  },
  {
   "cell_type": "code",
   "execution_count": null,
   "id": "0606ac6f",
   "metadata": {},
   "outputs": [],
   "source": []
  },
  {
   "cell_type": "markdown",
   "id": "d365fb20",
   "metadata": {},
   "source": [
    "Python closer\n",
    "A closer is a function object that rememeber value enclosing scopes enven if they are not present in the memory\n"
   ]
  },
  {
   "cell_type": "code",
   "execution_count": 20,
   "id": "2f9866f4",
   "metadata": {},
   "outputs": [
    {
     "name": "stdout",
     "output_type": "stream",
     "text": [
      "hello\n"
     ]
    }
   ],
   "source": [
    "#Defining a closure functions\n",
    "\n",
    "def print_message(message):\n",
    "#this is the outer enclosing functions\n",
    "\n",
    "    def print_message_inner():\n",
    "        #this is the nested functions\n",
    "        print(message)\n",
    "        \n",
    "    return print_message_inner \n",
    "\n",
    "another = print_message(\"hello\")\n",
    "another()"
   ]
  },
  {
   "cell_type": "code",
   "execution_count": 22,
   "id": "1cfce653",
   "metadata": {},
   "outputs": [
    {
     "name": "stdout",
     "output_type": "stream",
     "text": [
      "27\n",
      "15\n",
      "30\n"
     ]
    }
   ],
   "source": [
    "#Another demonostration of the closer functions\n",
    "\n",
    "def multipiler_outer(n):\n",
    "    def multiplier_inner(x):\n",
    "        return x * n\n",
    "    return multiplier_inner\n",
    "\n",
    "#multiplier of 3\n",
    "\n",
    "times3 = multipiler_outer(3)\n",
    "\n",
    "\n",
    "times5 = multipiler_outer(5)\n",
    "\n",
    "\n",
    "print(times3(9))\n",
    "print(times5(3))\n",
    "\n",
    "print(times5(times3(2)))"
   ]
  },
  {
   "cell_type": "code",
   "execution_count": 27,
   "id": "63070910",
   "metadata": {},
   "outputs": [
    {
     "name": "stdout",
     "output_type": "stream",
     "text": [
      "2023-02-15 22:14:51.166886\n",
      "2023\n",
      "2\n",
      "15\n"
     ]
    }
   ],
   "source": [
    "#datetime\n",
    "\n",
    "import datetime\n",
    "\n",
    "x = datetime.datetime.now()\n",
    "print(x)\n",
    "print(x.year)\n",
    "print(x.month)\n",
    "print(x.day)\n"
   ]
  },
  {
   "cell_type": "code",
   "execution_count": 31,
   "id": "ef9bad03",
   "metadata": {},
   "outputs": [
    {
     "name": "stdout",
     "output_type": "stream",
     "text": [
      "2024-03-25 00:00:00\n",
      "Mon\n"
     ]
    }
   ],
   "source": [
    "import datetime\n",
    "\n",
    "x = datetime.datetime(2024, 3, 25)\n",
    "\n",
    "print(x)\n",
    "print(x.strftime(\"%a\"))\n"
   ]
  },
  {
   "cell_type": "code",
   "execution_count": null,
   "id": "0bfc4e8f",
   "metadata": {},
   "outputs": [],
   "source": []
  }
 ],
 "metadata": {
  "kernelspec": {
   "display_name": "Python 3",
   "language": "python",
   "name": "python3"
  },
  "language_info": {
   "codemirror_mode": {
    "name": "ipython",
    "version": 3
   },
   "file_extension": ".py",
   "mimetype": "text/x-python",
   "name": "python",
   "nbconvert_exporter": "python",
   "pygments_lexer": "ipython3",
   "version": "3.8.8"
  }
 },
 "nbformat": 4,
 "nbformat_minor": 5
}
