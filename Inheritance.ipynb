{
 "cells": [
  {
   "cell_type": "code",
   "execution_count": 13,
   "id": "1adce16f",
   "metadata": {},
   "outputs": [],
   "source": [
    "#Inheritance\n",
    "#creating class and object in python\n",
    "\n",
    "class myBird:\n",
    "    def __init__(self):\n",
    "        print(\"mybird class constructor is executing...\")\n",
    "    \n",
    "    def whatType(self):\n",
    "        print(\"i am a bird\")\n",
    "    \n",
    "    def canSwim(self):\n",
    "        print(\"i cam swim\")\n",
    "    \n",
    "    "
   ]
  },
  {
   "cell_type": "code",
   "execution_count": 14,
   "id": "f3991da6",
   "metadata": {},
   "outputs": [],
   "source": [
    "class myPenguin(myBird):\n",
    "    def __init__(self):\n",
    "        #call super() functions\n",
    "        super().__init__()\n",
    "        print(\"myPenguin clas constructor is executing...\")\n",
    "        \n",
    "    def whoisThis(self):\n",
    "        print('I am penguin..')\n",
    "    \n",
    "    def canRun(self):\n",
    "        print(\"i can run faster..\")\n",
    "        \n",
    "    "
   ]
  },
  {
   "cell_type": "code",
   "execution_count": 15,
   "id": "848fb6fa",
   "metadata": {},
   "outputs": [
    {
     "name": "stdout",
     "output_type": "stream",
     "text": [
      "mybird class constructor is executing...\n",
      "myPenguin clas constructor is executing...\n",
      "i am a bird\n",
      "I am penguin..\n",
      "i cam swim\n",
      "i can run faster..\n"
     ]
    }
   ],
   "source": [
    "pg1 = myPenguin()\n",
    "pg1.whatType()       #defined in mybird class\n",
    "pg1.whoisThis()      #defined in mypenguin class\n",
    "pg1.canSwim()        #defined in mybird class\n",
    "pg1.canRun()          #defined in mypenguin class\n"
   ]
  },
  {
   "cell_type": "code",
   "execution_count": 31,
   "id": "6d80bf7c",
   "metadata": {},
   "outputs": [],
   "source": [
    "#ploymorphism\n",
    "class MyParrot:\n",
    "    def canFly(self):\n",
    "        print(\"Parrort can fly\")\n",
    "    def canSwim(self):\n",
    "        print(\"parrot can't swim\")\n",
    "    "
   ]
  },
  {
   "cell_type": "code",
   "execution_count": 32,
   "id": "9ee92143",
   "metadata": {},
   "outputs": [],
   "source": [
    "class MyPenguin:\n",
    "    def canFly(self):\n",
    "        print(\"penguin can't fly\")\n",
    "    def canSwim(self):\n",
    "        print(\"Penguin can swim\")\n",
    "        \n"
   ]
  },
  {
   "cell_type": "code",
   "execution_count": 33,
   "id": "7d44fd29",
   "metadata": {},
   "outputs": [],
   "source": [
    "#common interface\n",
    "def flying_bird_test(bird):\n",
    "    bird.canFly()\n",
    "    bird.canSwim()"
   ]
  },
  {
   "cell_type": "code",
   "execution_count": 34,
   "id": "f3ba75ff",
   "metadata": {},
   "outputs": [
    {
     "name": "stdout",
     "output_type": "stream",
     "text": [
      "Parrort can fly\n",
      "parrot can't swim\n",
      "\n",
      "penguin can't fly\n",
      "Penguin can swim\n"
     ]
    }
   ],
   "source": [
    "#instantiate objects\n",
    "bird_parrot = MyParrot()\n",
    "bird_penguin = MyPenguin()\n",
    "\n",
    "#passing the object\n",
    "flying_bird_test(bird_parrot)\n",
    "print()\n",
    "flying_bird_test(bird_penguin)\n"
   ]
  },
  {
   "cell_type": "markdown",
   "id": "0aed08ad",
   "metadata": {},
   "source": [
    "Multiple inheritance"
   ]
  },
  {
   "cell_type": "code",
   "execution_count": 36,
   "id": "81e232d5",
   "metadata": {},
   "outputs": [],
   "source": [
    "#Multiple Inheritance\n",
    "class Base1:\n",
    "    pass\n",
    "\n",
    "class Base2:\n",
    "    pass\n",
    "\n",
    "class MultiDerived(Base1, Base2):\n",
    "    pass\n"
   ]
  },
  {
   "cell_type": "code",
   "execution_count": 38,
   "id": "f25049cb",
   "metadata": {},
   "outputs": [],
   "source": [
    "#Mutliple inheritance\n",
    "class Base1:\n",
    "    def funcBase1(self):\n",
    "        print(\"funcBase1() is executing...\")\n",
    "        \n",
    "class Base2:\n",
    "    def funcBase2(self):\n",
    "        print(\"funcBase2() is esecuting....\")\n",
    "class Base3:\n",
    "    def funcBase3(self):\n",
    "        print(\"funcBas3() is executing ....\")\n",
    "        \n",
    "        \n",
    "class MultiDerived(Base1, Base2, Base3):\n",
    "    def funcMultiDerived(self):\n",
    "        print(\"funcMultiDerived() is executing ...\")"
   ]
  },
  {
   "cell_type": "code",
   "execution_count": 40,
   "id": "cdf942b0",
   "metadata": {},
   "outputs": [
    {
     "name": "stdout",
     "output_type": "stream",
     "text": [
      "funcBase1() is executing...\n",
      "funcBase2() is esecuting....\n",
      "funcBas3() is executing ....\n",
      "funcMultiDerived() is executing ...\n"
     ]
    }
   ],
   "source": [
    "md1 = MultiDerived()\n",
    "md1.funcBase1()\n",
    "md1.funcBase2()\n",
    "md1.funcBase3()\n",
    "md1.funcMultiDerived()"
   ]
  },
  {
   "cell_type": "code",
   "execution_count": null,
   "id": "6c788d17",
   "metadata": {},
   "outputs": [],
   "source": []
  }
 ],
 "metadata": {
  "kernelspec": {
   "display_name": "Python 3",
   "language": "python",
   "name": "python3"
  },
  "language_info": {
   "codemirror_mode": {
    "name": "ipython",
    "version": 3
   },
   "file_extension": ".py",
   "mimetype": "text/x-python",
   "name": "python",
   "nbconvert_exporter": "python",
   "pygments_lexer": "ipython3",
   "version": "3.8.8"
  }
 },
 "nbformat": 4,
 "nbformat_minor": 5
}
