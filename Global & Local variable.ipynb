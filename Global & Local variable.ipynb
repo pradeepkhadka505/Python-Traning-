{
 "cells": [
  {
   "cell_type": "code",
   "execution_count": 4,
   "id": "9f30122e",
   "metadata": {},
   "outputs": [
    {
     "name": "stdout",
     "output_type": "stream",
     "text": [
      "Global x =  global\n",
      "globalglobal\n",
      "local\n",
      "Global x =  globalglobal\n"
     ]
    }
   ],
   "source": [
    "#Gloabl and local variable with differnt name \n",
    "\n",
    "x = \"global\"\n",
    "def func1():\n",
    "    global x \n",
    "    y = \"local\"\n",
    "    x = x * 2\n",
    "    print(x)\n",
    "    print(y)\n",
    "\n",
    "print(\"Global x = \", x)\n",
    "func1()\n",
    "print(\"Global x = \", x)"
   ]
  },
  {
   "cell_type": "code",
   "execution_count": 5,
   "id": "356f8131",
   "metadata": {},
   "outputs": [
    {
     "name": "stdout",
     "output_type": "stream",
     "text": [
      "global a:  5\n",
      "local a:  10\n",
      "gloabl a: 5\n"
     ]
    }
   ],
   "source": [
    "#Global and local varibale wih same name\n",
    "a = 5\n",
    "\n",
    "def func2():\n",
    "    a = 10\n",
    "    print(\"local a: \",  a)\n",
    "\n",
    "print(\"global a: \", a)\n",
    "func2()\n",
    "print(\"gloabl a:\", a)"
   ]
  },
  {
   "cell_type": "code",
   "execution_count": 6,
   "id": "74648481",
   "metadata": {},
   "outputs": [
    {
     "name": "stdout",
     "output_type": "stream",
     "text": [
      "inner: nonlocal\n",
      "outer:  nonlocal\n"
     ]
    }
   ],
   "source": [
    "# creating and using a non local variable\n",
    "\n",
    "def outer():\n",
    "    x = \"local\"\n",
    "    \n",
    "    def inner():\n",
    "        nonlocal x \n",
    "        x = \"nonlocal\"\n",
    "        print(\"inner:\", x)\n",
    "        \n",
    "    inner()\n",
    "    print(\"outer: \", x)\n",
    "outer()\n",
    "        "
   ]
  },
  {
   "cell_type": "code",
   "execution_count": 7,
   "id": "bef090a7",
   "metadata": {},
   "outputs": [
    {
     "name": "stdout",
     "output_type": "stream",
     "text": [
      "before calling funct2:  20\n",
      "callng functions now \n",
      "After calling funct2:  20\n",
      " xi in main;  25\n"
     ]
    }
   ],
   "source": [
    "def func1():\n",
    "    x = 20\n",
    "    \n",
    "    def funct2():\n",
    "        global x \n",
    "        x = 25\n",
    "        \n",
    "    print(\"before calling funct2: \", x)\n",
    "    print(\"callng functions now \")\n",
    "    funct2()\n",
    "    print(\"After calling funct2: \", x)\n",
    "    \n",
    "func1()\n",
    "\n",
    "print(\" x in main; \", x)"
   ]
  },
  {
   "cell_type": "code",
   "execution_count": null,
   "id": "0cbb758f",
   "metadata": {},
   "outputs": [],
   "source": []
  }
 ],
 "metadata": {
  "kernelspec": {
   "display_name": "Python 3",
   "language": "python",
   "name": "python3"
  },
  "language_info": {
   "codemirror_mode": {
    "name": "ipython",
    "version": 3
   },
   "file_extension": ".py",
   "mimetype": "text/x-python",
   "name": "python",
   "nbconvert_exporter": "python",
   "pygments_lexer": "ipython3",
   "version": "3.8.8"
  }
 },
 "nbformat": 4,
 "nbformat_minor": 5
}
