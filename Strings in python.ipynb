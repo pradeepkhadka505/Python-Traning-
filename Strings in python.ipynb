{
 "cells": [
  {
   "cell_type": "markdown",
   "id": "33a2a826",
   "metadata": {},
   "source": [
    "A string is a sequence of characters. String can contain alphabets, digits and special characters.\n",
    "\n",
    "the conversion of characterto a number is called encoding and the revrese process is decoding.\n",
    "ASCU and Unicode are some of the popular encoding used.\n"
   ]
  },
  {
   "cell_type": "code",
   "execution_count": 4,
   "id": "5fea111a",
   "metadata": {},
   "outputs": [
    {
     "name": "stdout",
     "output_type": "stream",
     "text": [
      "mystr =  language\n",
      "mystr[0] = l\n",
      "mystr[-1]= e\n",
      "mystr[1:5] = angu\n",
      "mystr[5:-2]= a\n"
     ]
    }
   ],
   "source": [
    "#accessing characters in a string \n",
    "\n",
    "mystr = 'language'\n",
    "print('mystr = ', mystr)\n",
    "\n",
    "print('mystr[0] =' , mystr[0])\n",
    "print('mystr[-1]=', mystr[-1])\n",
    "print('mystr[1:5] =', mystr[1:5])\n",
    "print('mystr[5:-2]=', mystr[5:-2])\n",
    "\n"
   ]
  },
  {
   "cell_type": "code",
   "execution_count": 9,
   "id": "78e69a7b",
   "metadata": {},
   "outputs": [
    {
     "name": "stdout",
     "output_type": "stream",
     "text": [
      "mystr1 + mystr2 = welcome to all\n",
      "mystr1 *3 =0 languagelanguagelanguage\n"
     ]
    }
   ],
   "source": [
    "#string are imutable\n",
    "#string concartination\n",
    "\n",
    "mystr1 = 'welcome'\n",
    "mystr2 = ' to all'\n",
    "\n",
    "#usiing +\n",
    "\n",
    "print('mystr1 + mystr2 =', mystr1 + mystr2)\n",
    "\n",
    "#using *\n",
    "\n",
    "print('mystr1 *3 =0', mystr * 3)\n"
   ]
  },
  {
   "cell_type": "code",
   "execution_count": 16,
   "id": "f75f8313",
   "metadata": {},
   "outputs": [
    {
     "name": "stdout",
     "output_type": "stream",
     "text": [
      "1 times o letter has been found\n"
     ]
    }
   ],
   "source": [
    "#iterating through a string \n",
    "letter_count = 0\n",
    "for letters in \"Hello worlds\":\n",
    "    if (letters == 'w'):\n",
    "        letter_count += 1\n",
    "print(letter_count, 'times o letter has been found')"
   ]
  },
  {
   "cell_type": "code",
   "execution_count": 22,
   "id": "27b89d18",
   "metadata": {},
   "outputs": [
    {
     "name": "stdout",
     "output_type": "stream",
     "text": [
      "True\n",
      "False\n",
      "False\n",
      "True\n"
     ]
    }
   ],
   "source": [
    "#string memberships\n",
    "\n",
    "print('l' in \"hello\")\n",
    "print('l' not in \"hello\")\n",
    "print('b' in \"hello\")\n",
    "print('b' not in \"hello\")"
   ]
  },
  {
   "cell_type": "code",
   "execution_count": 28,
   "id": "63fc0ee0",
   "metadata": {},
   "outputs": [
    {
     "name": "stdout",
     "output_type": "stream",
     "text": [
      "Today is and monday\n",
      "today is and monday\n"
     ]
    }
   ],
   "source": [
    "#format() method \n",
    "\n",
    "#default(implict ) order\n",
    "default_order = \"{} {} and {}\".format('Today', 'is', 'monday')\n",
    "print(default_order)\n",
    "\n",
    "#order using positional arguments\n",
    "positional_order = \"{1} {0} and {2}\".format('is', 'today', 'monday')\n",
    "print(positional_order)\n",
    "\n"
   ]
  },
  {
   "cell_type": "code",
   "execution_count": 29,
   "id": "940dd02c",
   "metadata": {},
   "outputs": [
    {
     "name": "stdout",
     "output_type": "stream",
     "text": [
      "Today, is and Sunday\n"
     ]
    }
   ],
   "source": [
    "#using key order arguments\n",
    "key_order = \"{t}, {i} and {s}\".format(i='is', t='Today', s='Sunday')\n",
    "print(key_order)\n"
   ]
  },
  {
   "cell_type": "code",
   "execution_count": 31,
   "id": "4abc74a9",
   "metadata": {},
   "outputs": [
    {
     "name": "stdout",
     "output_type": "stream",
     "text": [
      "Required binary representtions of 20 is 10100\n",
      "Exponet represetation: 1.566345e+03\n",
      "one third is: 0.333333\n"
     ]
    }
   ],
   "source": [
    "#formating numbers \n",
    "print(\"Required binary representtions of {0} is {0:b}\".format(20))\n",
    "\n",
    "#foratiing floats\n",
    "print(\"Exponet represetation: {0:e}\".format(1566.345))\n",
    "\n",
    "#roundoff\n",
    "print(\"one third is: {0:3f}\".format(1/3))\n"
   ]
  },
  {
   "cell_type": "code",
   "execution_count": 37,
   "id": "ff632cc2",
   "metadata": {},
   "outputs": [
    {
     "name": "stdout",
     "output_type": "stream",
     "text": [
      "good morning to all\n",
      "GOOD MORNING TO ALL\n",
      "13\n",
      "good morNing to everybody\n"
     ]
    }
   ],
   "source": [
    "#string methods\n",
    "\n",
    "print(\"good morNing to ALl\".lower())\n",
    "print(\"good morNing to ALl\".upper())\n",
    "print(\"good morNing to ALl\".find('to'))\n",
    "print(\"good morNing to ALl\".replace('ALl','everybody'))"
   ]
  },
  {
   "cell_type": "markdown",
   "id": "afa2bc7b",
   "metadata": {},
   "source": [
    "Data type conversions"
   ]
  },
  {
   "cell_type": "code",
   "execution_count": 40,
   "id": "a939b863",
   "metadata": {},
   "outputs": [
    {
     "name": "stdout",
     "output_type": "stream",
     "text": [
      "<class 'int'>\n",
      "<class 'float'>\n",
      "<class 'float'>\n"
     ]
    }
   ],
   "source": [
    "#impllict type conversions\n",
    "num_int = 123\n",
    "num_flot = 1.12\n",
    "num_new = num_int + num_flot\n",
    "\n",
    "print(type(num_int))\n",
    "print(type(num_flot))\n",
    "print(type(num_new))"
   ]
  },
  {
   "cell_type": "code",
   "execution_count": 45,
   "id": "5b46728c",
   "metadata": {},
   "outputs": [
    {
     "name": "stdout",
     "output_type": "stream",
     "text": [
      "<class 'int'>\n",
      "<class 'str'>\n",
      "123123\n"
     ]
    }
   ],
   "source": [
    "num = 123 \n",
    "num2 = \"123000\"\n",
    "\n",
    "print(type(num))\n",
    "\n",
    "print(type(num2))\n",
    "\n",
    "num1 = int(num2)\n",
    "\n",
    "num_sum = num + num1\n",
    "\n",
    "print(num_sum)\n",
    "\n"
   ]
  },
  {
   "cell_type": "code",
   "execution_count": null,
   "id": "9d1be455",
   "metadata": {},
   "outputs": [],
   "source": []
  }
 ],
 "metadata": {
  "kernelspec": {
   "display_name": "Python 3",
   "language": "python",
   "name": "python3"
  },
  "language_info": {
   "codemirror_mode": {
    "name": "ipython",
    "version": 3
   },
   "file_extension": ".py",
   "mimetype": "text/x-python",
   "name": "python",
   "nbconvert_exporter": "python",
   "pygments_lexer": "ipython3",
   "version": "3.8.8"
  }
 },
 "nbformat": 4,
 "nbformat_minor": 5
}
