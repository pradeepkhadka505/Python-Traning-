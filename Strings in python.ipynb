{
 "cells": [
  {
   "cell_type": "markdown",
   "id": "0456c12f",
   "metadata": {},
   "source": [
    "A string is a sequence of characters. String can contain alphabets, digits and special characters.\n",
    "\n",
    "the conversion of characterto a number is called encoding and the revrese process is decoding.\n",
    "ASCU and Unicode are some of the popular encoding used.\n"
   ]
  },
  {
   "cell_type": "code",
   "execution_count": 4,
   "id": "30eeb57b",
   "metadata": {},
   "outputs": [
    {
     "name": "stdout",
     "output_type": "stream",
     "text": [
      "mystr =  language\n",
      "mystr[0] = l\n",
      "mystr[-1]= e\n",
      "mystr[1:5] = angu\n",
      "mystr[5:-2]= a\n"
     ]
    }
   ],
   "source": [
    "#accessing characters in a string \n",
    "\n",
    "mystr = 'language'\n",
    "print('mystr = ', mystr)\n",
    "\n",
    "print('mystr[0] =' , mystr[0])\n",
    "print('mystr[-1]=', mystr[-1])\n",
    "print('mystr[1:5] =', mystr[1:5])\n",
    "print('mystr[5:-2]=', mystr[5:-2])\n",
    "\n"
   ]
  },
  {
   "cell_type": "code",
   "execution_count": 9,
   "id": "30a3fb4b",
   "metadata": {},
   "outputs": [
    {
     "name": "stdout",
     "output_type": "stream",
     "text": [
      "mystr1 + mystr2 = welcome to all\n",
      "mystr1 *3 =0 languagelanguagelanguage\n"
     ]
    }
   ],
   "source": [
    "#string are imutable\n",
    "#string concartination\n",
    "\n",
    "mystr1 = 'welcome'\n",
    "mystr2 = ' to all'\n",
    "\n",
    "#usiing +\n",
    "\n",
    "print('mystr1 + mystr2 =', mystr1 + mystr2)\n",
    "\n",
    "#using *\n",
    "\n",
    "print('mystr1 *3 =0', mystr * 3)\n"
   ]
  },
  {
   "cell_type": "code",
   "execution_count": 16,
   "id": "298373b3",
   "metadata": {},
   "outputs": [
    {
     "name": "stdout",
     "output_type": "stream",
     "text": [
      "1 times o letter has been found\n"
     ]
    }
   ],
   "source": [
    "#iterating through a string \n",
    "letter_count = 0\n",
    "for letters in \"Hello worlds\":\n",
    "    if (letters == 'w'):\n",
    "        letter_count += 1\n",
    "print(letter_count, 'times o letter has been found')"
   ]
  },
  {
   "cell_type": "code",
   "execution_count": 22,
   "id": "b6d57b7e",
   "metadata": {},
   "outputs": [
    {
     "name": "stdout",
     "output_type": "stream",
     "text": [
      "True\n",
      "False\n",
      "False\n",
      "True\n"
     ]
    }
   ],
   "source": [
    "#string memberships\n",
    "\n",
    "print('l' in \"hello\")\n",
    "print('l' not in \"hello\")\n",
    "print('b' in \"hello\")\n",
    "print('b' not in \"hello\")"
   ]
  },
  {
   "cell_type": "code",
   "execution_count": 28,
   "id": "1d6bf442",
   "metadata": {},
   "outputs": [
    {
     "name": "stdout",
     "output_type": "stream",
     "text": [
      "Today is and monday\n",
      "today is and monday\n"
     ]
    }
   ],
   "source": [
    "#format() method \n",
    "\n",
    "#default(implict ) order\n",
    "default_order = \"{} {} and {}\".format('Today', 'is', 'monday')\n",
    "print(default_order)\n",
    "\n",
    "#order using positional arguments\n",
    "positional_order = \"{1} {0} and {2}\".format('is', 'today', 'monday')\n",
    "print(positional_order)\n",
    "\n"
   ]
  },
  {
   "cell_type": "code",
   "execution_count": 29,
   "id": "107bebfe",
   "metadata": {},
   "outputs": [
    {
     "name": "stdout",
     "output_type": "stream",
     "text": [
      "Today, is and Sunday\n"
     ]
    }
   ],
   "source": [
    "#using key order arguments\n",
    "key_order = \"{t}, {i} and {s}\".format(i='is', t='Today', s='Sunday')\n",
    "print(key_order)\n"
   ]
  },
  {
   "cell_type": "code",
   "execution_count": 31,
   "id": "b0ece0b6",
   "metadata": {},
   "outputs": [
    {
     "name": "stdout",
     "output_type": "stream",
     "text": [
      "Required binary representtions of 20 is 10100\n",
      "Exponet represetation: 1.566345e+03\n",
      "one third is: 0.333333\n"
     ]
    }
   ],
   "source": [
    "#formating numbers \n",
    "print(\"Required binary representtions of {0} is {0:b}\".format(20))\n",
    "\n",
    "#foratiing floats\n",
    "print(\"Exponet represetation: {0:e}\".format(1566.345))\n",
    "\n",
    "#roundoff\n",
    "print(\"one third is: {0:3f}\".format(1/3))\n"
   ]
  },
  {
   "cell_type": "code",
   "execution_count": 37,
   "id": "a3c4f5fd",
   "metadata": {},
   "outputs": [
    {
     "name": "stdout",
     "output_type": "stream",
     "text": [
      "good morning to all\n",
      "GOOD MORNING TO ALL\n",
      "13\n",
      "good morNing to everybody\n"
     ]
    }
   ],
   "source": [
    "#string methods\n",
    "\n",
    "print(\"good morNing to ALl\".lower())\n",
    "print(\"good morNing to ALl\".upper())\n",
    "print(\"good morNing to ALl\".find('to'))\n",
    "print(\"good morNing to ALl\".replace('ALl','everybody'))"
   ]
  },
  {
   "cell_type": "markdown",
   "id": "ddfb79cb",
   "metadata": {},
   "source": [
    "Data type conversions"
   ]
  },
  {
   "cell_type": "code",
   "execution_count": 40,
   "id": "4d5f1c1c",
   "metadata": {},
   "outputs": [
    {
     "name": "stdout",
     "output_type": "stream",
     "text": [
      "<class 'int'>\n",
      "<class 'float'>\n",
      "<class 'float'>\n"
     ]
    }
   ],
   "source": [
    "#impllict type conversions\n",
    "num_int = 123\n",
    "num_flot = 1.12\n",
    "num_new = num_int + num_flot\n",
    "\n",
    "print(type(num_int))\n",
    "print(type(num_flot))\n",
    "print(type(num_new))"
   ]
  },
  {
   "cell_type": "code",
   "execution_count": 45,
   "id": "96484d3a",
   "metadata": {},
   "outputs": [
    {
     "name": "stdout",
     "output_type": "stream",
     "text": [
      "<class 'int'>\n",
      "<class 'str'>\n",
      "123123\n"
     ]
    }
   ],
   "source": [
    "num = 123 \n",
    "num2 = \"123000\"\n",
    "\n",
    "print(type(num))\n",
    "\n",
    "print(type(num2))\n",
    "\n",
    "num1 = int(num2)\n",
    "\n",
    "num_sum = num + num1\n",
    "\n",
    "print(num_sum)\n",
    "\n"
   ]
  },
  {
   "cell_type": "code",
   "execution_count": 46,
   "id": "d3c22a67",
   "metadata": {},
   "outputs": [
    {
     "name": "stdout",
     "output_type": "stream",
     "text": [
      "3.141592653589793\n",
      "-0.8390715290764524\n",
      "2.302585092994046\n",
      "1.0\n",
      "22026.465794806718\n",
      "120\n",
      "11013.232874703393\n"
     ]
    }
   ],
   "source": [
    "#python math module\n",
    "import math\n",
    "print(math.pi)\n",
    "print(math.cos(10))\n",
    "print(math.log(10))\n",
    "print(math.log10(10))\n",
    "print(math.exp(10))\n",
    "print(math.factorial(5))\n",
    "print(math.sinh(10))"
   ]
  },
  {
   "cell_type": "code",
   "execution_count": 50,
   "id": "499f8d29",
   "metadata": {},
   "outputs": [
    {
     "name": "stdout",
     "output_type": "stream",
     "text": [
      "Random number -> 7\n"
     ]
    }
   ],
   "source": [
    "# import random module\n",
    "import random\n",
    "\n",
    "print('Random number ->', random.randrange(5, 15))\n"
   ]
  },
  {
   "cell_type": "code",
   "execution_count": 59,
   "id": "386ff9b5",
   "metadata": {},
   "outputs": [
    {
     "name": "stdout",
     "output_type": "stream",
     "text": [
      "fri\n",
      "['sun', 'mon', 'tue', 'wed', 'thus', 'fri', 'sat']\n",
      "['wed', 'fri', 'sat', 'sun', 'mon', 'tue', 'thus']\n",
      "0.3004932364216061\n"
     ]
    }
   ],
   "source": [
    "day = ['sun', 'mon','tue','wed', 'thus','fri', 'sat']\n",
    "print(random.choice(day))\n",
    "\n",
    "print(day)\n",
    "random.shuffle(day)\n",
    "print(day)\n",
    "\n",
    "#print random element\n",
    "print(random.random())"
   ]
  },
  {
   "cell_type": "code",
   "execution_count": 63,
   "id": "ed31df36",
   "metadata": {},
   "outputs": [
    {
     "name": "stdout",
     "output_type": "stream",
     "text": [
      "id(2) = 140703144355664\n",
      "id(a) = 140703144355664\n"
     ]
    }
   ],
   "source": [
    "a =2\n",
    "print('id(2) =', id(2))\n",
    "\n",
    "print('id(a) =', id(a))\n",
    "\n"
   ]
  },
  {
   "cell_type": "code",
   "execution_count": 66,
   "id": "4f49159f",
   "metadata": {},
   "outputs": [
    {
     "name": "stdout",
     "output_type": "stream",
     "text": [
      "a = 10\n",
      "a = 30\n",
      "a =  30\n",
      "a = 30\n"
     ]
    }
   ],
   "source": [
    "#scope \n",
    "def outer_function():\n",
    "    global a\n",
    "    a = 20\n",
    "    \n",
    "    def inner_function():\n",
    "        global a \n",
    "        a = 30\n",
    "        print('a =', a)\n",
    "        \n",
    "    inner_function()\n",
    "    print('a = ', a)\n",
    "a = 10\n",
    "\n",
    "print('a =',a )\n",
    "outer_function()\n",
    "print('a =', a)\n",
    "\n"
   ]
  },
  {
   "cell_type": "code",
   "execution_count": null,
   "id": "6cb6ed52",
   "metadata": {},
   "outputs": [],
   "source": []
  }
 ],
 "metadata": {
  "kernelspec": {
   "display_name": "Python 3",
   "language": "python",
   "name": "python3"
  },
  "language_info": {
   "codemirror_mode": {
    "name": "ipython",
    "version": 3
   },
   "file_extension": ".py",
   "mimetype": "text/x-python",
   "name": "python",
   "nbconvert_exporter": "python",
   "pygments_lexer": "ipython3",
   "version": "3.8.8"
  }
 },
 "nbformat": 4,
 "nbformat_minor": 5
}
