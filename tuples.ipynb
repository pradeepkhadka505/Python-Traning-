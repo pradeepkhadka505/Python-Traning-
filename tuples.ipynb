{
 "cells": [
  {
   "cell_type": "code",
   "execution_count": 1,
   "id": "a00544b1",
   "metadata": {},
   "outputs": [
    {
     "name": "stdout",
     "output_type": "stream",
     "text": [
      "()\n"
     ]
    }
   ],
   "source": [
    "#creating empty tuple\n",
    "tuple1 = ()\n",
    "\n",
    "print(tuple1)"
   ]
  },
  {
   "cell_type": "code",
   "execution_count": 2,
   "id": "fa7d6d8d",
   "metadata": {},
   "outputs": [
    {
     "name": "stdout",
     "output_type": "stream",
     "text": [
      "(1, 2, 3)\n",
      "<class 'tuple'>\n",
      "\n",
      "\n",
      "(101, 'arab', 2002.2, 'Hr department')\n"
     ]
    }
   ],
   "source": [
    "#creatring tuple with integers \n",
    "tuple2 = (1,2,3)\n",
    "\n",
    "print(tuple2)\n",
    "print(type(tuple2))\n",
    "\n",
    "print(\"\\n\")\n",
    "\n",
    "#tuple with mixed datatypes\n",
    "\n",
    "tuple3 = (101, \"arab\", 2002.2, \"Hr department\")\n",
    "print(tuple3)"
   ]
  },
  {
   "cell_type": "code",
   "execution_count": 3,
   "id": "36b64d53",
   "metadata": {},
   "outputs": [
    {
     "name": "stdout",
     "output_type": "stream",
     "text": [
      "('points', [1, 2, 3.4], [7, 8, 9, 20])\n"
     ]
    }
   ],
   "source": [
    "#tuple inside a tuple called nested tuple \n",
    "tuple4 =( \"points\", [1,2,3.4], [7,8,9,20])\n",
    "\n",
    "print(tuple4)"
   ]
  },
  {
   "cell_type": "code",
   "execution_count": 4,
   "id": "d23f61d6",
   "metadata": {
    "scrolled": true
   },
   "outputs": [
    {
     "name": "stdout",
     "output_type": "stream",
     "text": [
      "(101, 'arman', 33.33, 'HR dept')\n"
     ]
    }
   ],
   "source": [
    "#tuple also created with out any parenthesis\n",
    "#due to which tuple is caled as unpacking \n",
    "\n",
    "tuple5 = 101, \"arman\", 33.33, \"HR dept\"\n",
    "print(tuple5)\n",
    "\n"
   ]
  },
  {
   "cell_type": "code",
   "execution_count": 7,
   "id": "50330b76",
   "metadata": {},
   "outputs": [
    {
     "name": "stdout",
     "output_type": "stream",
     "text": [
      "101\n",
      "arman\n",
      "HR dept\n",
      "<class 'tuple'>\n"
     ]
    }
   ],
   "source": [
    "#tuple unpacking is also possible \n",
    "\n",
    "empid,empname,empsal,empdept = tuple5\n",
    "\n",
    "print(empid)\n",
    "print(empname)\n",
    "print(empdept)\n",
    "\n",
    "print(type(tuple5))"
   ]
  },
  {
   "cell_type": "code",
   "execution_count": 17,
   "id": "00f50d1f",
   "metadata": {},
   "outputs": [
    {
     "name": "stdout",
     "output_type": "stream",
     "text": [
      "('w', 'e', '1', 'c', 'o', 'm', 'e')\n",
      "e\n",
      "c\n",
      "m\n",
      "\n",
      "\n",
      "('point', [1, 3, 4], (8, 7, 9))\n",
      "n\n",
      "4\n",
      "9\n"
     ]
    }
   ],
   "source": [
    "#accesing elements in a tuple\n",
    "\n",
    "tuple1 = ('w', 'e', '1', 'c','o','m','e')\n",
    "\n",
    "print(tuple1)\n",
    "print(tuple1[1])\n",
    "print(tuple1[3])\n",
    "print(tuple1[5])\n",
    "\n",
    "print(\"\\n\")\n",
    "\n",
    "#nested tuple\n",
    "nest_tuple2 = (\"point\", [1,3,4], (8,7,9))\n",
    "print(nest_tuple2)\n",
    "\n",
    "print(nest_tuple2[0][3])\n",
    "print(nest_tuple2[1][2])\n",
    "print(nest_tuple2[2][2])"
   ]
  },
  {
   "cell_type": "code",
   "execution_count": 20,
   "id": "d97fe536",
   "metadata": {},
   "outputs": [
    {
     "name": "stdout",
     "output_type": "stream",
     "text": [
      "('e', '1')\n",
      "('w', 'e', '1', 'c')\n",
      "('c', 'o', 'm', 'e')\n",
      "('w', 'e', '1', 'c', 'o', 'm', 'e')\n"
     ]
    }
   ],
   "source": [
    "#slicing tuple\n",
    "\n",
    "tuple1 = ('w', 'e', '1', 'c','o','m','e')\n",
    "\n",
    "print(tuple1[1:3])\n",
    "print(tuple1[:-3])\n",
    "print(tuple1[3:])\n",
    "print(tuple1[:])\n"
   ]
  },
  {
   "cell_type": "code",
   "execution_count": 21,
   "id": "a7ee4d02",
   "metadata": {},
   "outputs": [
    {
     "name": "stdout",
     "output_type": "stream",
     "text": [
      "('w', 'e', '1', 'c', 'o', 'm', 'e')\n",
      "('g', 'o', 'o', 'd', 'b', 'y', 'e')\n"
     ]
    }
   ],
   "source": [
    "tuple1 = ('w', 'e', '1', 'c','o','m','e')\n",
    "print(tuple1)\n",
    "\n",
    "#tuples can be reassigened\n",
    "tuple1 = ('g','o','o','d','b','y','e')\n",
    "print(tuple1)"
   ]
  },
  {
   "cell_type": "code",
   "execution_count": 23,
   "id": "dadf51e8",
   "metadata": {},
   "outputs": [
    {
     "name": "stdout",
     "output_type": "stream",
     "text": [
      "('w', 'e', '1')\n",
      "('c', 'o', 'n', 'q')\n",
      "('w', 'e', '1', 'c', 'o', 'n', 'q')\n",
      "('again', 'again', 'again', 'again')\n"
     ]
    }
   ],
   "source": [
    "#tuple concatenations\n",
    "\n",
    "tuple2 =('w', 'e', '1')\n",
    "tuple3 = ('c','o', 'n', 'q')\n",
    "print(tuple2)\n",
    "print(tuple3)\n",
    "\n",
    "print(tuple2 + tuple3)\n",
    "\n",
    "print((\"again\",) *4)"
   ]
  },
  {
   "cell_type": "code",
   "execution_count": null,
   "id": "600fbfef",
   "metadata": {},
   "outputs": [],
   "source": [
    "#deletion operation  in tuple4\n",
    "\n",
    "tuple4 =('w','e','1','c','o','m','e')\n",
    "#as immutable so elements can not be deleted\n",
    "#del tuple4[2]\n",
    "\n",
    "#but can deleted entire tuple\n",
    "del tuple4\n",
    "print(tuple4)"
   ]
  },
  {
   "cell_type": "code",
   "execution_count": 27,
   "id": "897eb473",
   "metadata": {},
   "outputs": [
    {
     "name": "stdout",
     "output_type": "stream",
     "text": [
      "2\n",
      "3\n"
     ]
    }
   ],
   "source": [
    "tuple5 = ('w', 'e', '1', 'c','o','m','e')\n",
    "print(tuple5.count('e'))\n",
    "print(tuple5.index('c'))"
   ]
  },
  {
   "cell_type": "code",
   "execution_count": 31,
   "id": "c98004ff",
   "metadata": {},
   "outputs": [
    {
     "name": "stdout",
     "output_type": "stream",
     "text": [
      "True\n",
      "False\n",
      "False\n",
      "True\n",
      "letter is ->  w\n",
      "letter is ->  e\n",
      "letter is ->  1\n",
      "letter is ->  c\n",
      "letter is ->  o\n",
      "letter is ->  m\n",
      "letter is ->  e\n"
     ]
    }
   ],
   "source": [
    "#tuples operations \n",
    "tuple6 = ('w', 'e', '1', 'c','o','m','e')\n",
    "\n",
    "#memberships\n",
    "print('c' in tuple6)\n",
    "print('c' not in tuple6)\n",
    "print('a' in tuple6)\n",
    "print('a' not in tuple6)\n",
    "\n",
    "for letters in tuple6:\n",
    "    print(\"letter is -> \", letters)"
   ]
  },
  {
   "cell_type": "code",
   "execution_count": 36,
   "id": "6b538d39",
   "metadata": {},
   "outputs": [
    {
     "name": "stdout",
     "output_type": "stream",
     "text": [
      "(22, 33, 55, 44, 77, 66, 11)\n",
      "11\n",
      "77\n",
      "[11, 22, 33, 44, 55, 66, 77]\n",
      "7\n"
     ]
    }
   ],
   "source": [
    "#builting functions with tuples\n",
    "tuple7 = (22, 33, 55, 44, 77, 66, 11)\n",
    "\n",
    "print(tuple7)\n",
    "print(min(tuple7))\n",
    "print(max(tuple7))\n",
    "print(sorted(tuple7))\n",
    "print(len(tuple7))"
   ]
  },
  {
   "cell_type": "code",
   "execution_count": 4,
   "id": "4c0d3a5a",
   "metadata": {},
   "outputs": [
    {
     "name": "stdout",
     "output_type": "stream",
     "text": [
      "['apple', 'banana', 'cherry']\n",
      "<class 'list'>\n",
      "('apple', 'kiwi', 'cherry')\n"
     ]
    }
   ],
   "source": [
    "#convertion tuples into list \n",
    "\n",
    "x = (\"apple\", \"banana\", \"cherry\")\n",
    "y = list(x)\n",
    "\n",
    "print(y)\n",
    "print(type(y))\n",
    "\n",
    "y[1] = \"kiwi\"\n",
    "\n",
    "x = tuple(y)\n",
    "print(x)"
   ]
  },
  {
   "cell_type": "code",
   "execution_count": 10,
   "id": "c6bfc65c",
   "metadata": {},
   "outputs": [
    {
     "name": "stdout",
     "output_type": "stream",
     "text": [
      "['apple', 'banana', 'cherry']\n",
      "('apple', 'banana', 'cherry', 'orange')\n",
      "('banana', 'cherry', 'orange')\n"
     ]
    }
   ],
   "source": [
    "#Convertion list into tuple\n",
    "thistuple = (\"apple\", \"banana\", \"cherry\")\n",
    "\n",
    "y = list(thistuple)\n",
    "print(y)\n",
    "\n",
    "y.append(\"orange\")\n",
    "\n",
    "thistuple = tuple(y)\n",
    "\n",
    "print(thistuple)\n",
    "\n",
    "z = list(thistuple)\n",
    "z.remove(\"apple\")\n",
    "thistuple = tuple(z)\n",
    "print(thistuple)\n"
   ]
  },
  {
   "cell_type": "code",
   "execution_count": 12,
   "id": "f16b84b3",
   "metadata": {},
   "outputs": [
    {
     "name": "stdout",
     "output_type": "stream",
     "text": [
      "('a', 'b', 'c', 1, 2, 3)\n",
      "('a', 'b', 'c', 1, 2, 3, 'a', 'b', 'c', 1, 2, 3)\n"
     ]
    }
   ],
   "source": [
    "tuple1 = (\"a\", \"b\", \"c\")\n",
    "tuple2 = (1, 2, 3)\n",
    "\n",
    "tuple3 = tuple1 + tuple2\n",
    "\n",
    "tuple4 = tuple3 *2\n",
    "\n",
    "print(tuple3)\n",
    "print(tuple4)"
   ]
  },
  {
   "cell_type": "code",
   "execution_count": null,
   "id": "31238319",
   "metadata": {},
   "outputs": [],
   "source": []
  }
 ],
 "metadata": {
  "kernelspec": {
   "display_name": "Python 3",
   "language": "python",
   "name": "python3"
  },
  "language_info": {
   "codemirror_mode": {
    "name": "ipython",
    "version": 3
   },
   "file_extension": ".py",
   "mimetype": "text/x-python",
   "name": "python",
   "nbconvert_exporter": "python",
   "pygments_lexer": "ipython3",
   "version": "3.8.8"
  }
 },
 "nbformat": 4,
 "nbformat_minor": 5
}
